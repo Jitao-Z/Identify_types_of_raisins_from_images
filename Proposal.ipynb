{
 "cells": [
  {
   "cell_type": "code",
   "execution_count": 2,
   "id": "929b92f8-02e7-4ff8-a527-3bc1bcfe9180",
   "metadata": {},
   "outputs": [
    {
     "name": "stderr",
     "output_type": "stream",
     "text": [
      "── \u001b[1mAttaching packages\u001b[22m ─────────────────────────────────────── tidyverse 1.3.1 ──\n",
      "\n",
      "\u001b[32m✔\u001b[39m \u001b[34mggplot2\u001b[39m 3.3.6     \u001b[32m✔\u001b[39m \u001b[34mpurrr  \u001b[39m 0.3.4\n",
      "\u001b[32m✔\u001b[39m \u001b[34mtibble \u001b[39m 3.1.7     \u001b[32m✔\u001b[39m \u001b[34mdplyr  \u001b[39m 1.0.9\n",
      "\u001b[32m✔\u001b[39m \u001b[34mtidyr  \u001b[39m 1.2.0     \u001b[32m✔\u001b[39m \u001b[34mstringr\u001b[39m 1.4.0\n",
      "\u001b[32m✔\u001b[39m \u001b[34mreadr  \u001b[39m 2.1.2     \u001b[32m✔\u001b[39m \u001b[34mforcats\u001b[39m 0.5.1\n",
      "\n",
      "── \u001b[1mConflicts\u001b[22m ────────────────────────────────────────── tidyverse_conflicts() ──\n",
      "\u001b[31m✖\u001b[39m \u001b[34mdplyr\u001b[39m::\u001b[32mfilter()\u001b[39m masks \u001b[34mstats\u001b[39m::filter()\n",
      "\u001b[31m✖\u001b[39m \u001b[34mdplyr\u001b[39m::\u001b[32mlag()\u001b[39m    masks \u001b[34mstats\u001b[39m::lag()\n",
      "\n"
     ]
    }
   ],
   "source": [
    "library(tidyverse)\n",
    "library(repr)\n",
    "library(readxl)\n",
    "options(repr.matrix.max.rows = 6)"
   ]
  },
  {
   "cell_type": "code",
   "execution_count": 4,
   "id": "5e51b25e-9ac8-49a2-bc81-2516db7e5c11",
   "metadata": {},
   "outputs": [
    {
     "data": {
      "text/html": [
       "<table class=\"dataframe\">\n",
       "<caption>A data.frame: 6 × 13</caption>\n",
       "<thead>\n",
       "\t<tr><th></th><th scope=col>X.</th><th scope=col>Name</th><th scope=col>Type.1</th><th scope=col>Type.2</th><th scope=col>Total</th><th scope=col>HP</th><th scope=col>Attack</th><th scope=col>Defense</th><th scope=col>Sp..Atk</th><th scope=col>Sp..Def</th><th scope=col>Speed</th><th scope=col>Generation</th><th scope=col>Legendary</th></tr>\n",
       "\t<tr><th></th><th scope=col>&lt;int&gt;</th><th scope=col>&lt;chr&gt;</th><th scope=col>&lt;chr&gt;</th><th scope=col>&lt;chr&gt;</th><th scope=col>&lt;int&gt;</th><th scope=col>&lt;int&gt;</th><th scope=col>&lt;int&gt;</th><th scope=col>&lt;int&gt;</th><th scope=col>&lt;int&gt;</th><th scope=col>&lt;int&gt;</th><th scope=col>&lt;int&gt;</th><th scope=col>&lt;int&gt;</th><th scope=col>&lt;chr&gt;</th></tr>\n",
       "</thead>\n",
       "<tbody>\n",
       "\t<tr><th scope=row>1</th><td> 4</td><td>Charmander               </td><td>Fire</td><td>      </td><td>309</td><td>39</td><td> 52</td><td> 43</td><td> 60</td><td> 50</td><td> 65</td><td>1</td><td>False</td></tr>\n",
       "\t<tr><th scope=row>2</th><td> 5</td><td>Charmeleon               </td><td>Fire</td><td>      </td><td>405</td><td>58</td><td> 64</td><td> 58</td><td> 80</td><td> 65</td><td> 80</td><td>1</td><td>False</td></tr>\n",
       "\t<tr><th scope=row>3</th><td> 6</td><td>Charizard                </td><td>Fire</td><td>Flying</td><td>534</td><td>78</td><td> 84</td><td> 78</td><td>109</td><td> 85</td><td>100</td><td>1</td><td>False</td></tr>\n",
       "\t<tr><th scope=row>4</th><td> 6</td><td>CharizardMega Charizard X</td><td>Fire</td><td>Dragon</td><td>634</td><td>78</td><td>130</td><td>111</td><td>130</td><td> 85</td><td>100</td><td>1</td><td>False</td></tr>\n",
       "\t<tr><th scope=row>5</th><td> 6</td><td>CharizardMega Charizard Y</td><td>Fire</td><td>Flying</td><td>634</td><td>78</td><td>104</td><td> 78</td><td>159</td><td>115</td><td>100</td><td>1</td><td>False</td></tr>\n",
       "\t<tr><th scope=row>6</th><td>37</td><td>Vulpix                   </td><td>Fire</td><td>      </td><td>299</td><td>38</td><td> 41</td><td> 40</td><td> 50</td><td> 65</td><td> 65</td><td>1</td><td>False</td></tr>\n",
       "</tbody>\n",
       "</table>\n"
      ],
      "text/latex": [
       "A data.frame: 6 × 13\n",
       "\\begin{tabular}{r|lllllllllllll}\n",
       "  & X. & Name & Type.1 & Type.2 & Total & HP & Attack & Defense & Sp..Atk & Sp..Def & Speed & Generation & Legendary\\\\\n",
       "  & <int> & <chr> & <chr> & <chr> & <int> & <int> & <int> & <int> & <int> & <int> & <int> & <int> & <chr>\\\\\n",
       "\\hline\n",
       "\t1 &  4 & Charmander                & Fire &        & 309 & 39 &  52 &  43 &  60 &  50 &  65 & 1 & False\\\\\n",
       "\t2 &  5 & Charmeleon                & Fire &        & 405 & 58 &  64 &  58 &  80 &  65 &  80 & 1 & False\\\\\n",
       "\t3 &  6 & Charizard                 & Fire & Flying & 534 & 78 &  84 &  78 & 109 &  85 & 100 & 1 & False\\\\\n",
       "\t4 &  6 & CharizardMega Charizard X & Fire & Dragon & 634 & 78 & 130 & 111 & 130 &  85 & 100 & 1 & False\\\\\n",
       "\t5 &  6 & CharizardMega Charizard Y & Fire & Flying & 634 & 78 & 104 &  78 & 159 & 115 & 100 & 1 & False\\\\\n",
       "\t6 & 37 & Vulpix                    & Fire &        & 299 & 38 &  41 &  40 &  50 &  65 &  65 & 1 & False\\\\\n",
       "\\end{tabular}\n"
      ],
      "text/markdown": [
       "\n",
       "A data.frame: 6 × 13\n",
       "\n",
       "| <!--/--> | X. &lt;int&gt; | Name &lt;chr&gt; | Type.1 &lt;chr&gt; | Type.2 &lt;chr&gt; | Total &lt;int&gt; | HP &lt;int&gt; | Attack &lt;int&gt; | Defense &lt;int&gt; | Sp..Atk &lt;int&gt; | Sp..Def &lt;int&gt; | Speed &lt;int&gt; | Generation &lt;int&gt; | Legendary &lt;chr&gt; |\n",
       "|---|---|---|---|---|---|---|---|---|---|---|---|---|---|\n",
       "| 1 |  4 | Charmander                | Fire | <!----> | 309 | 39 |  52 |  43 |  60 |  50 |  65 | 1 | False |\n",
       "| 2 |  5 | Charmeleon                | Fire | <!----> | 405 | 58 |  64 |  58 |  80 |  65 |  80 | 1 | False |\n",
       "| 3 |  6 | Charizard                 | Fire | Flying | 534 | 78 |  84 |  78 | 109 |  85 | 100 | 1 | False |\n",
       "| 4 |  6 | CharizardMega Charizard X | Fire | Dragon | 634 | 78 | 130 | 111 | 130 |  85 | 100 | 1 | False |\n",
       "| 5 |  6 | CharizardMega Charizard Y | Fire | Flying | 634 | 78 | 104 |  78 | 159 | 115 | 100 | 1 | False |\n",
       "| 6 | 37 | Vulpix                    | Fire | <!----> | 299 | 38 |  41 |  40 |  50 |  65 |  65 | 1 | False |\n",
       "\n"
      ],
      "text/plain": [
       "  X. Name                      Type.1 Type.2 Total HP Attack Defense Sp..Atk\n",
       "1  4 Charmander                Fire          309   39  52     43      60    \n",
       "2  5 Charmeleon                Fire          405   58  64     58      80    \n",
       "3  6 Charizard                 Fire   Flying 534   78  84     78     109    \n",
       "4  6 CharizardMega Charizard X Fire   Dragon 634   78 130    111     130    \n",
       "5  6 CharizardMega Charizard Y Fire   Flying 634   78 104     78     159    \n",
       "6 37 Vulpix                    Fire          299   38  41     40      50    \n",
       "  Sp..Def Speed Generation Legendary\n",
       "1  50      65   1          False    \n",
       "2  65      80   1          False    \n",
       "3  85     100   1          False    \n",
       "4  85     100   1          False    \n",
       "5 115     100   1          False    \n",
       "6  65      65   1          False    "
      ]
     },
     "metadata": {},
     "output_type": "display_data"
    }
   ],
   "source": [
    "pokemon_data <- read.csv(\"data/Pokemon.csv\")\n",
    "new_pokemon <- filter(pokemon_data, Type.1 == \"Fire\")\n",
    "head(new_pokemon)"
   ]
  }
 ],
 "metadata": {
  "kernelspec": {
   "display_name": "R",
   "language": "R",
   "name": "ir"
  },
  "language_info": {
   "codemirror_mode": "r",
   "file_extension": ".r",
   "mimetype": "text/x-r-source",
   "name": "R",
   "pygments_lexer": "r",
   "version": "4.1.3"
  }
 },
 "nbformat": 4,
 "nbformat_minor": 5
}

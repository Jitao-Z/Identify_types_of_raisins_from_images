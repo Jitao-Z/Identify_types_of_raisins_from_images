{
 "cells": [
  {
   "cell_type": "code",
   "execution_count": 3,
   "id": "929b92f8-02e7-4ff8-a527-3bc1bcfe9180",
   "metadata": {},
   "outputs": [],
   "source": [
    "library(tidyverse)\n",
    "library(repr)\n",
    "library(readxl)\n",
    "options(repr.matrix.max.rows = 6)"
   ]
  },
  {
   "cell_type": "code",
   "execution_count": 5,
   "id": "5e51b25e-9ac8-49a2-bc81-2516db7e5c11",
   "metadata": {},
   "outputs": [
    {
     "data": {
      "text/html": [
       "<table class=\"dataframe\">\n",
       "<caption>A data.frame: 6 × 13</caption>\n",
       "<thead>\n",
       "\t<tr><th></th><th scope=col>X.</th><th scope=col>Name</th><th scope=col>Type.1</th><th scope=col>Type.2</th><th scope=col>Total</th><th scope=col>HP</th><th scope=col>Attack</th><th scope=col>Defense</th><th scope=col>Sp..Atk</th><th scope=col>Sp..Def</th><th scope=col>Speed</th><th scope=col>Generation</th><th scope=col>Legendary</th></tr>\n",
       "\t<tr><th></th><th scope=col>&lt;int&gt;</th><th scope=col>&lt;chr&gt;</th><th scope=col>&lt;chr&gt;</th><th scope=col>&lt;chr&gt;</th><th scope=col>&lt;int&gt;</th><th scope=col>&lt;int&gt;</th><th scope=col>&lt;int&gt;</th><th scope=col>&lt;int&gt;</th><th scope=col>&lt;int&gt;</th><th scope=col>&lt;int&gt;</th><th scope=col>&lt;int&gt;</th><th scope=col>&lt;int&gt;</th><th scope=col>&lt;chr&gt;</th></tr>\n",
       "</thead>\n",
       "<tbody>\n",
       "\t<tr><th scope=row>1</th><td>1</td><td>Bulbasaur            </td><td>Grass</td><td>Poison</td><td>318</td><td>45</td><td> 49</td><td> 49</td><td> 65</td><td> 65</td><td>45</td><td>1</td><td>False</td></tr>\n",
       "\t<tr><th scope=row>2</th><td>2</td><td>Ivysaur              </td><td>Grass</td><td>Poison</td><td>405</td><td>60</td><td> 62</td><td> 63</td><td> 80</td><td> 80</td><td>60</td><td>1</td><td>False</td></tr>\n",
       "\t<tr><th scope=row>3</th><td>3</td><td>Venusaur             </td><td>Grass</td><td>Poison</td><td>525</td><td>80</td><td> 82</td><td> 83</td><td>100</td><td>100</td><td>80</td><td>1</td><td>False</td></tr>\n",
       "\t<tr><th scope=row>4</th><td>3</td><td>VenusaurMega Venusaur</td><td>Grass</td><td>Poison</td><td>625</td><td>80</td><td>100</td><td>123</td><td>122</td><td>120</td><td>80</td><td>1</td><td>False</td></tr>\n",
       "\t<tr><th scope=row>5</th><td>4</td><td>Charmander           </td><td>Fire </td><td>      </td><td>309</td><td>39</td><td> 52</td><td> 43</td><td> 60</td><td> 50</td><td>65</td><td>1</td><td>False</td></tr>\n",
       "\t<tr><th scope=row>6</th><td>5</td><td>Charmeleon           </td><td>Fire </td><td>      </td><td>405</td><td>58</td><td> 64</td><td> 58</td><td> 80</td><td> 65</td><td>80</td><td>1</td><td>False</td></tr>\n",
       "</tbody>\n",
       "</table>\n"
      ],
      "text/latex": [
       "A data.frame: 6 × 13\n",
       "\\begin{tabular}{r|lllllllllllll}\n",
       "  & X. & Name & Type.1 & Type.2 & Total & HP & Attack & Defense & Sp..Atk & Sp..Def & Speed & Generation & Legendary\\\\\n",
       "  & <int> & <chr> & <chr> & <chr> & <int> & <int> & <int> & <int> & <int> & <int> & <int> & <int> & <chr>\\\\\n",
       "\\hline\n",
       "\t1 & 1 & Bulbasaur             & Grass & Poison & 318 & 45 &  49 &  49 &  65 &  65 & 45 & 1 & False\\\\\n",
       "\t2 & 2 & Ivysaur               & Grass & Poison & 405 & 60 &  62 &  63 &  80 &  80 & 60 & 1 & False\\\\\n",
       "\t3 & 3 & Venusaur              & Grass & Poison & 525 & 80 &  82 &  83 & 100 & 100 & 80 & 1 & False\\\\\n",
       "\t4 & 3 & VenusaurMega Venusaur & Grass & Poison & 625 & 80 & 100 & 123 & 122 & 120 & 80 & 1 & False\\\\\n",
       "\t5 & 4 & Charmander            & Fire  &        & 309 & 39 &  52 &  43 &  60 &  50 & 65 & 1 & False\\\\\n",
       "\t6 & 5 & Charmeleon            & Fire  &        & 405 & 58 &  64 &  58 &  80 &  65 & 80 & 1 & False\\\\\n",
       "\\end{tabular}\n"
      ],
      "text/markdown": [
       "\n",
       "A data.frame: 6 × 13\n",
       "\n",
       "| <!--/--> | X. &lt;int&gt; | Name &lt;chr&gt; | Type.1 &lt;chr&gt; | Type.2 &lt;chr&gt; | Total &lt;int&gt; | HP &lt;int&gt; | Attack &lt;int&gt; | Defense &lt;int&gt; | Sp..Atk &lt;int&gt; | Sp..Def &lt;int&gt; | Speed &lt;int&gt; | Generation &lt;int&gt; | Legendary &lt;chr&gt; |\n",
       "|---|---|---|---|---|---|---|---|---|---|---|---|---|---|\n",
       "| 1 | 1 | Bulbasaur             | Grass | Poison | 318 | 45 |  49 |  49 |  65 |  65 | 45 | 1 | False |\n",
       "| 2 | 2 | Ivysaur               | Grass | Poison | 405 | 60 |  62 |  63 |  80 |  80 | 60 | 1 | False |\n",
       "| 3 | 3 | Venusaur              | Grass | Poison | 525 | 80 |  82 |  83 | 100 | 100 | 80 | 1 | False |\n",
       "| 4 | 3 | VenusaurMega Venusaur | Grass | Poison | 625 | 80 | 100 | 123 | 122 | 120 | 80 | 1 | False |\n",
       "| 5 | 4 | Charmander            | Fire  | <!----> | 309 | 39 |  52 |  43 |  60 |  50 | 65 | 1 | False |\n",
       "| 6 | 5 | Charmeleon            | Fire  | <!----> | 405 | 58 |  64 |  58 |  80 |  65 | 80 | 1 | False |\n",
       "\n"
      ],
      "text/plain": [
       "  X. Name                  Type.1 Type.2 Total HP Attack Defense Sp..Atk\n",
       "1 1  Bulbasaur             Grass  Poison 318   45  49     49      65    \n",
       "2 2  Ivysaur               Grass  Poison 405   60  62     63      80    \n",
       "3 3  Venusaur              Grass  Poison 525   80  82     83     100    \n",
       "4 3  VenusaurMega Venusaur Grass  Poison 625   80 100    123     122    \n",
       "5 4  Charmander            Fire          309   39  52     43      60    \n",
       "6 5  Charmeleon            Fire          405   58  64     58      80    \n",
       "  Sp..Def Speed Generation Legendary\n",
       "1  65     45    1          False    \n",
       "2  80     60    1          False    \n",
       "3 100     80    1          False    \n",
       "4 120     80    1          False    \n",
       "5  50     65    1          False    \n",
       "6  65     80    1          False    "
      ]
     },
     "metadata": {},
     "output_type": "display_data"
    }
   ],
   "source": [
    "pokemon_data <- read.csv(\"data/Pokemon.csv\")\n",
    "head(pokemon_data)"
   ]
  }
 ],
 "metadata": {
  "kernelspec": {
   "display_name": "R",
   "language": "R",
   "name": "ir"
  },
  "language_info": {
   "codemirror_mode": "r",
   "file_extension": ".r",
   "mimetype": "text/x-r-source",
   "name": "R",
   "pygments_lexer": "r",
   "version": "4.1.3"
  }
 },
 "nbformat": 4,
 "nbformat_minor": 5
}

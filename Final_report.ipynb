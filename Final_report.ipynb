{
 "cells": [
  {
   "cell_type": "markdown",
   "id": "3069aef6-3490-48e7-9a2c-055bdefcd39b",
   "metadata": {},
   "source": [
    "### Data Processing and Result Discovery"
   ]
  },
  {
   "cell_type": "markdown",
   "id": "ccd05578-d2e6-4d6d-b0a4-a4c4608bd85d",
   "metadata": {},
   "source": [
    "Now, this part is really where we start to code and do data analysis. In order to keep track our process, we divide it into the following 5 parts:\n",
    "\n",
    "- Part 1: Preparation\n",
    "- Part 2: Data Preprocessing\n",
    "- Part 3: Exploratory Data Analysis\n",
    "- Part 4: Predictive Data Anlysis\n",
    "- Part 5: Results and Conclusions\n",
    "\n",
    "We will demonstrate each part detailedly in the below sections."
   ]
  },
  {
   "cell_type": "markdown",
   "id": "9b7e328d-06ba-46e2-8780-5be8bf5711b2",
   "metadata": {},
   "source": [
    "<font color = red>__Part 1: Preparation__\n",
    "\n",
    "Our codes will cover the following in this part:\n",
    "- Inputting all needed packages and functions\n",
    "- Setting the seed\n",
    "- Loading data that we will be using"
   ]
  },
  {
   "cell_type": "code",
   "execution_count": 48,
   "id": "0b393823-76ae-40f8-9ca3-61ab827eff36",
   "metadata": {},
   "outputs": [],
   "source": [
    "library(tidyverse)\n",
    "library(tidymodels)\n",
    "library(repr)\n",
    "library(readxl)\n",
    "library(cowplot)"
   ]
  },
  {
   "cell_type": "code",
   "execution_count": 49,
   "id": "f56e2fbc-a90b-4a11-8cb6-f55570ccea68",
   "metadata": {},
   "outputs": [],
   "source": [
    "set.seed(2535) "
   ]
  },
  {
   "cell_type": "code",
   "execution_count": 50,
   "id": "a9c6f70e-3b00-4682-b558-23fdc3fd74c0",
   "metadata": {},
   "outputs": [
    {
     "data": {
      "text/html": [
       "<table class=\"dataframe\">\n",
       "<caption>A tibble: 6 × 8</caption>\n",
       "<thead>\n",
       "\t<tr><th scope=col>Area</th><th scope=col>MajorAxisLength</th><th scope=col>MinorAxisLength</th><th scope=col>Eccentricity</th><th scope=col>ConvexArea</th><th scope=col>Extent</th><th scope=col>Perimeter</th><th scope=col>Class</th></tr>\n",
       "\t<tr><th scope=col>&lt;dbl&gt;</th><th scope=col>&lt;dbl&gt;</th><th scope=col>&lt;dbl&gt;</th><th scope=col>&lt;dbl&gt;</th><th scope=col>&lt;dbl&gt;</th><th scope=col>&lt;dbl&gt;</th><th scope=col>&lt;dbl&gt;</th><th scope=col>&lt;chr&gt;</th></tr>\n",
       "</thead>\n",
       "<tbody>\n",
       "\t<tr><td>87524</td><td>442.2460</td><td>253.2912</td><td>0.8197384</td><td>90546</td><td>0.7586506</td><td>1184.040</td><td>Kecimen</td></tr>\n",
       "\t<tr><td>75166</td><td>406.6907</td><td>243.0324</td><td>0.8018052</td><td>78789</td><td>0.6841296</td><td>1121.786</td><td>Kecimen</td></tr>\n",
       "\t<tr><td>90856</td><td>442.2670</td><td>266.3283</td><td>0.7983536</td><td>93717</td><td>0.6376128</td><td>1208.575</td><td>Kecimen</td></tr>\n",
       "\t<tr><td>45928</td><td>286.5406</td><td>208.7600</td><td>0.6849892</td><td>47336</td><td>0.6995994</td><td> 844.162</td><td>Kecimen</td></tr>\n",
       "\t<tr><td>79408</td><td>352.1908</td><td>290.8275</td><td>0.5640113</td><td>81463</td><td>0.7927719</td><td>1073.251</td><td>Kecimen</td></tr>\n",
       "\t<tr><td>49242</td><td>318.1254</td><td>200.1221</td><td>0.7773513</td><td>51368</td><td>0.6584564</td><td> 881.836</td><td>Kecimen</td></tr>\n",
       "</tbody>\n",
       "</table>\n"
      ],
      "text/latex": [
       "A tibble: 6 × 8\n",
       "\\begin{tabular}{llllllll}\n",
       " Area & MajorAxisLength & MinorAxisLength & Eccentricity & ConvexArea & Extent & Perimeter & Class\\\\\n",
       " <dbl> & <dbl> & <dbl> & <dbl> & <dbl> & <dbl> & <dbl> & <chr>\\\\\n",
       "\\hline\n",
       "\t 87524 & 442.2460 & 253.2912 & 0.8197384 & 90546 & 0.7586506 & 1184.040 & Kecimen\\\\\n",
       "\t 75166 & 406.6907 & 243.0324 & 0.8018052 & 78789 & 0.6841296 & 1121.786 & Kecimen\\\\\n",
       "\t 90856 & 442.2670 & 266.3283 & 0.7983536 & 93717 & 0.6376128 & 1208.575 & Kecimen\\\\\n",
       "\t 45928 & 286.5406 & 208.7600 & 0.6849892 & 47336 & 0.6995994 &  844.162 & Kecimen\\\\\n",
       "\t 79408 & 352.1908 & 290.8275 & 0.5640113 & 81463 & 0.7927719 & 1073.251 & Kecimen\\\\\n",
       "\t 49242 & 318.1254 & 200.1221 & 0.7773513 & 51368 & 0.6584564 &  881.836 & Kecimen\\\\\n",
       "\\end{tabular}\n"
      ],
      "text/markdown": [
       "\n",
       "A tibble: 6 × 8\n",
       "\n",
       "| Area &lt;dbl&gt; | MajorAxisLength &lt;dbl&gt; | MinorAxisLength &lt;dbl&gt; | Eccentricity &lt;dbl&gt; | ConvexArea &lt;dbl&gt; | Extent &lt;dbl&gt; | Perimeter &lt;dbl&gt; | Class &lt;chr&gt; |\n",
       "|---|---|---|---|---|---|---|---|\n",
       "| 87524 | 442.2460 | 253.2912 | 0.8197384 | 90546 | 0.7586506 | 1184.040 | Kecimen |\n",
       "| 75166 | 406.6907 | 243.0324 | 0.8018052 | 78789 | 0.6841296 | 1121.786 | Kecimen |\n",
       "| 90856 | 442.2670 | 266.3283 | 0.7983536 | 93717 | 0.6376128 | 1208.575 | Kecimen |\n",
       "| 45928 | 286.5406 | 208.7600 | 0.6849892 | 47336 | 0.6995994 |  844.162 | Kecimen |\n",
       "| 79408 | 352.1908 | 290.8275 | 0.5640113 | 81463 | 0.7927719 | 1073.251 | Kecimen |\n",
       "| 49242 | 318.1254 | 200.1221 | 0.7773513 | 51368 | 0.6584564 |  881.836 | Kecimen |\n",
       "\n"
      ],
      "text/plain": [
       "  Area  MajorAxisLength MinorAxisLength Eccentricity ConvexArea Extent   \n",
       "1 87524 442.2460        253.2912        0.8197384    90546      0.7586506\n",
       "2 75166 406.6907        243.0324        0.8018052    78789      0.6841296\n",
       "3 90856 442.2670        266.3283        0.7983536    93717      0.6376128\n",
       "4 45928 286.5406        208.7600        0.6849892    47336      0.6995994\n",
       "5 79408 352.1908        290.8275        0.5640113    81463      0.7927719\n",
       "6 49242 318.1254        200.1221        0.7773513    51368      0.6584564\n",
       "  Perimeter Class  \n",
       "1 1184.040  Kecimen\n",
       "2 1121.786  Kecimen\n",
       "3 1208.575  Kecimen\n",
       "4  844.162  Kecimen\n",
       "5 1073.251  Kecimen\n",
       "6  881.836  Kecimen"
      ]
     },
     "metadata": {},
     "output_type": "display_data"
    }
   ],
   "source": [
    "url <- \"https://drive.google.com/uc?export=download&id=11KyK-H_2aP1I4FYR1aAC0wE4JB9BbAqz\"\n",
    "download.file(url, \"raisin.xlsx\")\n",
    "raisin <- read_excel(\"raisin.xlsx\")\n",
    "head(raisin)"
   ]
  },
  {
   "cell_type": "markdown",
   "id": "0c6cb048-6c67-4935-968a-3f5ac590f184",
   "metadata": {},
   "source": [
    "<font color = red>__Part 2: Data Preprocessing__\n",
    "\n",
    "Our codes will cover the following in this part:\n",
    "- Cleaning and wrangling the data\n",
    "- Creating the train / test split \n",
    "- Demonstrating why we will use MajorAxisLength as our fixed variable and why we will discard one of our combinations (MajorAxisLength & Extent) even before our Part 4: Predictive Data Analysis"
   ]
  },
  {
   "cell_type": "code",
   "execution_count": 51,
   "id": "29f574ca-0ca3-4f10-81bd-0479a7f11bfa",
   "metadata": {},
   "outputs": [
    {
     "data": {
      "text/html": [
       "<table class=\"dataframe\">\n",
       "<caption>A tibble: 6 × 8</caption>\n",
       "<thead>\n",
       "\t<tr><th scope=col>Area</th><th scope=col>MajorAxisLength</th><th scope=col>MinorAxisLength</th><th scope=col>Eccentricity</th><th scope=col>ConvexArea</th><th scope=col>Extent</th><th scope=col>Perimeter</th><th scope=col>Class</th></tr>\n",
       "\t<tr><th scope=col>&lt;dbl&gt;</th><th scope=col>&lt;dbl&gt;</th><th scope=col>&lt;dbl&gt;</th><th scope=col>&lt;dbl&gt;</th><th scope=col>&lt;dbl&gt;</th><th scope=col>&lt;dbl&gt;</th><th scope=col>&lt;dbl&gt;</th><th scope=col>&lt;fct&gt;</th></tr>\n",
       "</thead>\n",
       "<tbody>\n",
       "\t<tr><td>87524</td><td>442.2460</td><td>253.2912</td><td>0.8197384</td><td>90546</td><td>0.7586506</td><td>1184.040</td><td>Kecimen</td></tr>\n",
       "\t<tr><td>75166</td><td>406.6907</td><td>243.0324</td><td>0.8018052</td><td>78789</td><td>0.6841296</td><td>1121.786</td><td>Kecimen</td></tr>\n",
       "\t<tr><td>90856</td><td>442.2670</td><td>266.3283</td><td>0.7983536</td><td>93717</td><td>0.6376128</td><td>1208.575</td><td>Kecimen</td></tr>\n",
       "\t<tr><td>45928</td><td>286.5406</td><td>208.7600</td><td>0.6849892</td><td>47336</td><td>0.6995994</td><td> 844.162</td><td>Kecimen</td></tr>\n",
       "\t<tr><td>79408</td><td>352.1908</td><td>290.8275</td><td>0.5640113</td><td>81463</td><td>0.7927719</td><td>1073.251</td><td>Kecimen</td></tr>\n",
       "\t<tr><td>49242</td><td>318.1254</td><td>200.1221</td><td>0.7773513</td><td>51368</td><td>0.6584564</td><td> 881.836</td><td>Kecimen</td></tr>\n",
       "</tbody>\n",
       "</table>\n"
      ],
      "text/latex": [
       "A tibble: 6 × 8\n",
       "\\begin{tabular}{llllllll}\n",
       " Area & MajorAxisLength & MinorAxisLength & Eccentricity & ConvexArea & Extent & Perimeter & Class\\\\\n",
       " <dbl> & <dbl> & <dbl> & <dbl> & <dbl> & <dbl> & <dbl> & <fct>\\\\\n",
       "\\hline\n",
       "\t 87524 & 442.2460 & 253.2912 & 0.8197384 & 90546 & 0.7586506 & 1184.040 & Kecimen\\\\\n",
       "\t 75166 & 406.6907 & 243.0324 & 0.8018052 & 78789 & 0.6841296 & 1121.786 & Kecimen\\\\\n",
       "\t 90856 & 442.2670 & 266.3283 & 0.7983536 & 93717 & 0.6376128 & 1208.575 & Kecimen\\\\\n",
       "\t 45928 & 286.5406 & 208.7600 & 0.6849892 & 47336 & 0.6995994 &  844.162 & Kecimen\\\\\n",
       "\t 79408 & 352.1908 & 290.8275 & 0.5640113 & 81463 & 0.7927719 & 1073.251 & Kecimen\\\\\n",
       "\t 49242 & 318.1254 & 200.1221 & 0.7773513 & 51368 & 0.6584564 &  881.836 & Kecimen\\\\\n",
       "\\end{tabular}\n"
      ],
      "text/markdown": [
       "\n",
       "A tibble: 6 × 8\n",
       "\n",
       "| Area &lt;dbl&gt; | MajorAxisLength &lt;dbl&gt; | MinorAxisLength &lt;dbl&gt; | Eccentricity &lt;dbl&gt; | ConvexArea &lt;dbl&gt; | Extent &lt;dbl&gt; | Perimeter &lt;dbl&gt; | Class &lt;fct&gt; |\n",
       "|---|---|---|---|---|---|---|---|\n",
       "| 87524 | 442.2460 | 253.2912 | 0.8197384 | 90546 | 0.7586506 | 1184.040 | Kecimen |\n",
       "| 75166 | 406.6907 | 243.0324 | 0.8018052 | 78789 | 0.6841296 | 1121.786 | Kecimen |\n",
       "| 90856 | 442.2670 | 266.3283 | 0.7983536 | 93717 | 0.6376128 | 1208.575 | Kecimen |\n",
       "| 45928 | 286.5406 | 208.7600 | 0.6849892 | 47336 | 0.6995994 |  844.162 | Kecimen |\n",
       "| 79408 | 352.1908 | 290.8275 | 0.5640113 | 81463 | 0.7927719 | 1073.251 | Kecimen |\n",
       "| 49242 | 318.1254 | 200.1221 | 0.7773513 | 51368 | 0.6584564 |  881.836 | Kecimen |\n",
       "\n"
      ],
      "text/plain": [
       "  Area  MajorAxisLength MinorAxisLength Eccentricity ConvexArea Extent   \n",
       "1 87524 442.2460        253.2912        0.8197384    90546      0.7586506\n",
       "2 75166 406.6907        243.0324        0.8018052    78789      0.6841296\n",
       "3 90856 442.2670        266.3283        0.7983536    93717      0.6376128\n",
       "4 45928 286.5406        208.7600        0.6849892    47336      0.6995994\n",
       "5 79408 352.1908        290.8275        0.5640113    81463      0.7927719\n",
       "6 49242 318.1254        200.1221        0.7773513    51368      0.6584564\n",
       "  Perimeter Class  \n",
       "1 1184.040  Kecimen\n",
       "2 1121.786  Kecimen\n",
       "3 1208.575  Kecimen\n",
       "4  844.162  Kecimen\n",
       "5 1073.251  Kecimen\n",
       "6  881.836  Kecimen"
      ]
     },
     "metadata": {},
     "output_type": "display_data"
    }
   ],
   "source": [
    "# This is where we clean and wrangle our data\n",
    "# There is really not too much to do since this dataset is already very tidy\n",
    "raisin <- raisin |>\n",
    "    mutate(Class = as_factor(Class)) |>\n",
    "    filter(!is.na(Area),\n",
    "           !is.na(MajorAxisLength),\n",
    "           !is.na(MinorAxisLength),\n",
    "           !is.na(Eccentricity),\n",
    "           !is.na(ConvexArea),\n",
    "           !is.na(Extent),\n",
    "           !is.na(Perimeter))\n",
    "head(raisin)"
   ]
  },
  {
   "cell_type": "code",
   "execution_count": 52,
   "id": "d5b870fe-3061-48b6-8b7d-859b9e7accff",
   "metadata": {},
   "outputs": [],
   "source": [
    "# Here we are going to separate our data into training set and test test\n",
    "raisin_split <- initial_split(raisin, prop = 0.7, strata = Class)\n",
    "raisin_train <- training(raisin_split)\n",
    "raisin_test <- testing(raisin_split)"
   ]
  },
  {
   "cell_type": "code",
   "execution_count": 53,
   "id": "d015d7a3-2de9-419f-8f33-c41839abe97a",
   "metadata": {},
   "outputs": [
    {
     "data": {
      "text/html": [
       "<table class=\"dataframe\">\n",
       "<caption>A tibble: 6 × 8</caption>\n",
       "<thead>\n",
       "\t<tr><th scope=col>Area</th><th scope=col>MajorAxisLength</th><th scope=col>MinorAxisLength</th><th scope=col>Eccentricity</th><th scope=col>ConvexArea</th><th scope=col>Extent</th><th scope=col>Perimeter</th><th scope=col>Class</th></tr>\n",
       "\t<tr><th scope=col>&lt;dbl&gt;</th><th scope=col>&lt;dbl&gt;</th><th scope=col>&lt;dbl&gt;</th><th scope=col>&lt;dbl&gt;</th><th scope=col>&lt;dbl&gt;</th><th scope=col>&lt;dbl&gt;</th><th scope=col>&lt;dbl&gt;</th><th scope=col>&lt;fct&gt;</th></tr>\n",
       "</thead>\n",
       "<tbody>\n",
       "\t<tr><td> 1.3058565</td><td> 1.9159088</td><td> 0.3924262</td><td>1.417334846</td><td> 1.2825230</td><td> 0.5977362</td><td> 1.5657658</td><td>Besni</td></tr>\n",
       "\t<tr><td> 0.7909821</td><td> 0.9079717</td><td> 0.6949209</td><td>0.669403207</td><td> 0.8150746</td><td> 0.5682589</td><td> 0.9884439</td><td>Besni</td></tr>\n",
       "\t<tr><td> 0.2498630</td><td> 0.1572109</td><td> 0.4925829</td><td>0.005492329</td><td> 0.2394630</td><td> 0.1275983</td><td> 0.2044756</td><td>Besni</td></tr>\n",
       "\t<tr><td>-0.6560285</td><td>-0.2156557</td><td>-0.8709853</td><td>0.827959068</td><td>-0.5654958</td><td>-1.9227672</td><td>-0.2822601</td><td>Besni</td></tr>\n",
       "\t<tr><td> 1.7349142</td><td> 1.3643469</td><td> 1.6646284</td><td>0.402433114</td><td> 1.6680215</td><td> 0.4092748</td><td> 1.3468693</td><td>Besni</td></tr>\n",
       "\t<tr><td> 1.2213790</td><td> 1.4930019</td><td> 0.6914924</td><td>1.079157235</td><td> 1.1717606</td><td> 0.8004837</td><td> 1.2272835</td><td>Besni</td></tr>\n",
       "</tbody>\n",
       "</table>\n"
      ],
      "text/latex": [
       "A tibble: 6 × 8\n",
       "\\begin{tabular}{llllllll}\n",
       " Area & MajorAxisLength & MinorAxisLength & Eccentricity & ConvexArea & Extent & Perimeter & Class\\\\\n",
       " <dbl> & <dbl> & <dbl> & <dbl> & <dbl> & <dbl> & <dbl> & <fct>\\\\\n",
       "\\hline\n",
       "\t  1.3058565 &  1.9159088 &  0.3924262 & 1.417334846 &  1.2825230 &  0.5977362 &  1.5657658 & Besni\\\\\n",
       "\t  0.7909821 &  0.9079717 &  0.6949209 & 0.669403207 &  0.8150746 &  0.5682589 &  0.9884439 & Besni\\\\\n",
       "\t  0.2498630 &  0.1572109 &  0.4925829 & 0.005492329 &  0.2394630 &  0.1275983 &  0.2044756 & Besni\\\\\n",
       "\t -0.6560285 & -0.2156557 & -0.8709853 & 0.827959068 & -0.5654958 & -1.9227672 & -0.2822601 & Besni\\\\\n",
       "\t  1.7349142 &  1.3643469 &  1.6646284 & 0.402433114 &  1.6680215 &  0.4092748 &  1.3468693 & Besni\\\\\n",
       "\t  1.2213790 &  1.4930019 &  0.6914924 & 1.079157235 &  1.1717606 &  0.8004837 &  1.2272835 & Besni\\\\\n",
       "\\end{tabular}\n"
      ],
      "text/markdown": [
       "\n",
       "A tibble: 6 × 8\n",
       "\n",
       "| Area &lt;dbl&gt; | MajorAxisLength &lt;dbl&gt; | MinorAxisLength &lt;dbl&gt; | Eccentricity &lt;dbl&gt; | ConvexArea &lt;dbl&gt; | Extent &lt;dbl&gt; | Perimeter &lt;dbl&gt; | Class &lt;fct&gt; |\n",
       "|---|---|---|---|---|---|---|---|\n",
       "|  1.3058565 |  1.9159088 |  0.3924262 | 1.417334846 |  1.2825230 |  0.5977362 |  1.5657658 | Besni |\n",
       "|  0.7909821 |  0.9079717 |  0.6949209 | 0.669403207 |  0.8150746 |  0.5682589 |  0.9884439 | Besni |\n",
       "|  0.2498630 |  0.1572109 |  0.4925829 | 0.005492329 |  0.2394630 |  0.1275983 |  0.2044756 | Besni |\n",
       "| -0.6560285 | -0.2156557 | -0.8709853 | 0.827959068 | -0.5654958 | -1.9227672 | -0.2822601 | Besni |\n",
       "|  1.7349142 |  1.3643469 |  1.6646284 | 0.402433114 |  1.6680215 |  0.4092748 |  1.3468693 | Besni |\n",
       "|  1.2213790 |  1.4930019 |  0.6914924 | 1.079157235 |  1.1717606 |  0.8004837 |  1.2272835 | Besni |\n",
       "\n"
      ],
      "text/plain": [
       "  Area       MajorAxisLength MinorAxisLength Eccentricity ConvexArea Extent    \n",
       "1  1.3058565  1.9159088       0.3924262      1.417334846   1.2825230  0.5977362\n",
       "2  0.7909821  0.9079717       0.6949209      0.669403207   0.8150746  0.5682589\n",
       "3  0.2498630  0.1572109       0.4925829      0.005492329   0.2394630  0.1275983\n",
       "4 -0.6560285 -0.2156557      -0.8709853      0.827959068  -0.5654958 -1.9227672\n",
       "5  1.7349142  1.3643469       1.6646284      0.402433114   1.6680215  0.4092748\n",
       "6  1.2213790  1.4930019       0.6914924      1.079157235   1.1717606  0.8004837\n",
       "  Perimeter  Class\n",
       "1  1.5657658 Besni\n",
       "2  0.9884439 Besni\n",
       "3  0.2044756 Besni\n",
       "4 -0.2822601 Besni\n",
       "5  1.3468693 Besni\n",
       "6  1.2272835 Besni"
      ]
     },
     "metadata": {},
     "output_type": "display_data"
    }
   ],
   "source": [
    "decide_recipe <- recipe(Class ~ ., data = raisin_train) |>\n",
    "    step_scale(all_predictors()) |>\n",
    "    step_center(all_predictors()) |>\n",
    "    prep()\n",
    "\n",
    "decide_data <- bake(decide_recipe, raisin_train)\n",
    "head(decide_data)"
   ]
  },
  {
   "cell_type": "markdown",
   "id": "c738bb5b-0972-4b13-8287-dc32681d552a",
   "metadata": {
    "tags": []
   },
   "source": [
    "##### Figure 1 (below): Boxplots for different variables vs types of raisin "
   ]
  },
  {
   "cell_type": "code",
   "execution_count": 54,
   "id": "dc4a0498-d2c3-4328-ab58-995c756f93db",
   "metadata": {},
   "outputs": [
    {
     "name": "stderr",
     "output_type": "stream",
     "text": [
      "Warning message:\n",
      "“Removed 3 rows containing non-finite values (stat_boxplot).”\n",
      "Warning message:\n",
      "“Removed 2 rows containing non-finite values (stat_boxplot).”\n"
     ]
    },
    {
     "data": {
      "image/png": "[encoded data removed]",
      "text/plain": [
       "plot without title"
      ]
     },
     "metadata": {
      "image/png": {
       "height": 720,
       "width": 1440
      }
     },
     "output_type": "display_data"
    }
   ],
   "source": [
    "options(repr.plot.width = 24, repr.plot.height = 12)\n",
    "graph_Ar <- ggplot(data = decide_data, mapping = aes(x = Class, y = Area)) + geom_boxplot() + theme_bw() + ylim(c(-4, 6))\n",
    "graph_Mal <- ggplot(data = decide_data, mapping = aes(x = Class, y = MajorAxisLength)) + geom_boxplot() + theme_bw() + ylim(c(-4, 6))\n",
    "graph_Mil <- ggplot(data = decide_data, mapping = aes(x = Class, y = MinorAxisLength)) + geom_boxplot() + theme_bw() + ylim(c(-4, 6))\n",
    "graph_Ecc <- ggplot(data = decide_data, mapping = aes(x = Class, y = Eccentricity)) + geom_boxplot() + theme_bw() + ylim(c(-4, 6))\n",
    "graph_Convex <- ggplot(data = decide_data, mapping = aes(x = Class, y = ConvexArea)) + geom_boxplot() + theme_bw() + ylim(c(-4, 6))\n",
    "graph_Ex <- ggplot(data = decide_data, mapping = aes(x = Class, y = Extent)) + geom_boxplot() + theme_bw() + ylim(c(-4, 6))\n",
    "graph_Per <- ggplot(data = decide_data, mapping = aes(x = Class, y = Perimeter)) + geom_boxplot() + theme_bw() + ylim(c(-4, 6))\n",
    "compare_graph <- plot_grid(graph_Ar,\n",
    "                           graph_Mal,\n",
    "                           graph_Mil,\n",
    "                           graph_Ecc,\n",
    "                           graph_Convex,\n",
    "                           graph_Ex,\n",
    "                           graph_Per,\n",
    "                           ncol = 7)\n",
    "compare_graph"
   ]
  },
  {
   "cell_type": "markdown",
   "id": "f7c3e9a8-d65b-4e8e-b9d9-13ae17ea1d52",
   "metadata": {},
   "source": [
    "This cell needs to be written in formal English Chehak! this is only a draft note\n",
    "\n",
    "We can discard Extent based on graph 1, think from this viewpoints:\n",
    "intervals: More different intervals (cover more different place), easy to distinguish between two types of raisins\n",
    "need formal explanation why we discard Extent !!"
   ]
  },
  {
   "cell_type": "markdown",
   "id": "2d219c82-c6e9-4e66-bf22-d6ee44f94e8f",
   "metadata": {},
   "source": [
    "##### Figure 2 (below): Boxplots for MajorAxisLength vs Class and Perimeter & Class"
   ]
  },
  {
   "cell_type": "code",
   "execution_count": 55,
   "id": "06749ad3-9ae0-4b3e-8d5e-0cfb559500b4",
   "metadata": {},
   "outputs": [
    {
     "name": "stderr",
     "output_type": "stream",
     "text": [
      "Warning message:\n",
      "“Removed 3 rows containing non-finite values (stat_boxplot).”\n",
      "Warning message:\n",
      "“Removed 4 rows containing non-finite values (stat_boxplot).”\n"
     ]
    },
    {
     "data": {
      "image/png": "[encoded data removed]",
      "text/plain": [
       "plot without title"
      ]
     },
     "metadata": {
      "image/png": {
       "height": 720,
       "width": 1440
      }
     },
     "output_type": "display_data"
    }
   ],
   "source": [
    "# Since the boxplots for MajorAxisLength & Class and Perimeter & Class are very similar in Figure 1,\n",
    "# we put these two separately in below to determine which variable to be used as our fixed variable\n",
    "\n",
    "graph_Mal_bigger <- ggplot(data = decide_data, mapping = aes(x = Class, y = MajorAxisLength)) + geom_boxplot() + theme_bw() + ylim(c(-2, 4))\n",
    "graph_Per_bigger <- ggplot(data = decide_data, mapping = aes(x = Class, y = Perimeter)) + geom_boxplot() + theme_bw() + ylim(c(-2, 4))\n",
    "compare_Mal_Per <- plot_grid(graph_Mal_bigger, graph_Per_bigger, ncol = 2)\n",
    "compare_Mal_Per"
   ]
  },
  {
   "cell_type": "markdown",
   "id": "8c7f4bf3-6755-4650-adce-cb64c99fcb1a",
   "metadata": {},
   "source": [
    "This cell needs to be written in formal English Chehak! this is only a draft note\n",
    "\n",
    "Since the boxplots for MajorAxisLength & Class and Perimeter & Class are very similar in Figure 1, we put those two separately in figure 2 above to compare again to decide which one to be used as our fixed variable\n",
    "\n",
    "By comparing these two bigger boxplots in figure 2, we can see that the MajorAxislength one has a wider interval difference than the other.\n",
    "So let's use MajorAxisLength as our fixed variable"
   ]
  },
  {
   "cell_type": "markdown",
   "id": "74ffc4dc-b663-4e91-9f97-5e3fad5d857c",
   "metadata": {},
   "source": [
    "<font color = red>__Part 3: Exploratory Data Analysis__\n",
    "\n",
    "Our codes will cover the following in this part:\n",
    "- Data summary for exploratory analysis\n",
    "- Data visualization for exploratory analysis\n",
    "    \n",
    "Note: \n",
    "1. We will be using training data set for this part, and we will also exclude *Extent* variable here (reason is explained above)\n",
    "2. Figure 3 is a little bit different: We will be using scaled training data set **decide_data** that we obtained before to make the graph. And beyond that, we will still exclude *Extent* variable while making it"
   ]
  },
  {
   "cell_type": "markdown",
   "id": "59252b7a-5d50-411e-985b-9135ce467eee",
   "metadata": {},
   "source": [
    "##### Table 1 (below): Number of rows in the training dataset"
   ]
  },
  {
   "cell_type": "code",
   "execution_count": 56,
   "id": "d52e8424-22b0-449e-8821-b87e3f7c1276",
   "metadata": {},
   "outputs": [
    {
     "data": {
      "text/html": [
       "<table class=\"dataframe\">\n",
       "<caption>A tibble: 1 × 1</caption>\n",
       "<thead>\n",
       "\t<tr><th scope=col>rows</th></tr>\n",
       "\t<tr><th scope=col>&lt;int&gt;</th></tr>\n",
       "</thead>\n",
       "<tbody>\n",
       "\t<tr><td>630</td></tr>\n",
       "</tbody>\n",
       "</table>\n"
      ],
      "text/latex": [
       "A tibble: 1 × 1\n",
       "\\begin{tabular}{l}\n",
       " rows\\\\\n",
       " <int>\\\\\n",
       "\\hline\n",
       "\t 630\\\\\n",
       "\\end{tabular}\n"
      ],
      "text/markdown": [
       "\n",
       "A tibble: 1 × 1\n",
       "\n",
       "| rows &lt;int&gt; |\n",
       "|---|\n",
       "| 630 |\n",
       "\n"
      ],
      "text/plain": [
       "  rows\n",
       "1 630 "
      ]
     },
     "metadata": {},
     "output_type": "display_data"
    }
   ],
   "source": [
    "table_1 <- raisin_train |>\n",
    "    summarize(rows = n())\n",
    "table_1"
   ]
  },
  {
   "cell_type": "markdown",
   "id": "0cd67dd6-d9c2-445d-8f1b-dd5f8ebf5ab2",
   "metadata": {},
   "source": [
    "##### Table 2 (below): Number of observations in each class"
   ]
  },
  {
   "cell_type": "code",
   "execution_count": 57,
   "id": "33529fd2-7065-4728-825c-91e36faf60e5",
   "metadata": {},
   "outputs": [
    {
     "data": {
      "text/html": [
       "<table class=\"dataframe\">\n",
       "<caption>A tibble: 2 × 2</caption>\n",
       "<thead>\n",
       "\t<tr><th scope=col>Class</th><th scope=col>n</th></tr>\n",
       "\t<tr><th scope=col>&lt;fct&gt;</th><th scope=col>&lt;int&gt;</th></tr>\n",
       "</thead>\n",
       "<tbody>\n",
       "\t<tr><td>Kecimen</td><td>315</td></tr>\n",
       "\t<tr><td>Besni  </td><td>315</td></tr>\n",
       "</tbody>\n",
       "</table>\n"
      ],
      "text/latex": [
       "A tibble: 2 × 2\n",
       "\\begin{tabular}{ll}\n",
       " Class & n\\\\\n",
       " <fct> & <int>\\\\\n",
       "\\hline\n",
       "\t Kecimen & 315\\\\\n",
       "\t Besni   & 315\\\\\n",
       "\\end{tabular}\n"
      ],
      "text/markdown": [
       "\n",
       "A tibble: 2 × 2\n",
       "\n",
       "| Class &lt;fct&gt; | n &lt;int&gt; |\n",
       "|---|---|\n",
       "| Kecimen | 315 |\n",
       "| Besni   | 315 |\n",
       "\n"
      ],
      "text/plain": [
       "  Class   n  \n",
       "1 Kecimen 315\n",
       "2 Besni   315"
      ]
     },
     "metadata": {},
     "output_type": "display_data"
    }
   ],
   "source": [
    "table_2 <- raisin_train |>\n",
    "    group_by(Class) |>\n",
    "    summarize(n = n())\n",
    "table_2                                             "
   ]
  },
  {
   "cell_type": "markdown",
   "id": "fd674581-6d6e-4a7d-a0cd-6ca58600752d",
   "metadata": {},
   "source": [
    "##### Table 3 (below): Mean for each variable for both raisin classes"
   ]
  },
  {
   "cell_type": "code",
   "execution_count": 58,
   "id": "58f653f2-3b4a-4a6b-835d-ba5f281840b7",
   "metadata": {},
   "outputs": [
    {
     "data": {
      "text/html": [
       "<table class=\"dataframe\">\n",
       "<caption>A tibble: 1 × 6</caption>\n",
       "<thead>\n",
       "\t<tr><th scope=col>Area</th><th scope=col>MajorAxisLength</th><th scope=col>MinorAxisLength</th><th scope=col>Eccentricity</th><th scope=col>ConvexArea</th><th scope=col>Perimeter</th></tr>\n",
       "\t<tr><th scope=col>&lt;dbl&gt;</th><th scope=col>&lt;dbl&gt;</th><th scope=col>&lt;dbl&gt;</th><th scope=col>&lt;dbl&gt;</th><th scope=col>&lt;dbl&gt;</th><th scope=col>&lt;dbl&gt;</th></tr>\n",
       "</thead>\n",
       "<tbody>\n",
       "\t<tr><td>86880.58</td><td>428.5736</td><td>253.4141</td><td>0.7816852</td><td>90347.47</td><td>1160.895</td></tr>\n",
       "</tbody>\n",
       "</table>\n"
      ],
      "text/latex": [
       "A tibble: 1 × 6\n",
       "\\begin{tabular}{llllll}\n",
       " Area & MajorAxisLength & MinorAxisLength & Eccentricity & ConvexArea & Perimeter\\\\\n",
       " <dbl> & <dbl> & <dbl> & <dbl> & <dbl> & <dbl>\\\\\n",
       "\\hline\n",
       "\t 86880.58 & 428.5736 & 253.4141 & 0.7816852 & 90347.47 & 1160.895\\\\\n",
       "\\end{tabular}\n"
      ],
      "text/markdown": [
       "\n",
       "A tibble: 1 × 6\n",
       "\n",
       "| Area &lt;dbl&gt; | MajorAxisLength &lt;dbl&gt; | MinorAxisLength &lt;dbl&gt; | Eccentricity &lt;dbl&gt; | ConvexArea &lt;dbl&gt; | Perimeter &lt;dbl&gt; |\n",
       "|---|---|---|---|---|---|\n",
       "| 86880.58 | 428.5736 | 253.4141 | 0.7816852 | 90347.47 | 1160.895 |\n",
       "\n"
      ],
      "text/plain": [
       "  Area     MajorAxisLength MinorAxisLength Eccentricity ConvexArea Perimeter\n",
       "1 86880.58 428.5736        253.4141        0.7816852    90347.47   1160.895 "
      ]
     },
     "metadata": {},
     "output_type": "display_data"
    }
   ],
   "source": [
    "table_3 <- raisin_train |>\n",
    "    select(- Extent, - Class) |>\n",
    "    map_df(mean)\n",
    "table_3                                             "
   ]
  },
  {
   "cell_type": "markdown",
   "id": "3928b5d0-952a-4fff-a63f-d594f88ffd0d",
   "metadata": {},
   "source": [
    "##### Table 4 (below): Mean for each variable for each class"
   ]
  },
  {
   "cell_type": "code",
   "execution_count": 1,
   "id": "a981f297-8ee6-439f-88f5-8e1e1ae114cc",
   "metadata": {},
   "outputs": [
    {
     "ename": "ERROR",
     "evalue": "Error in summarize(group_by(raisin_train, Class), ave_area = mean(Area), : could not find function \"summarize\"\n",
     "output_type": "error",
     "traceback": [
      "Error in summarize(group_by(raisin_train, Class), ave_area = mean(Area), : could not find function \"summarize\"\nTraceback:\n"
     ]
    }
   ],
   "source": [
    "table_4 <- raisin_train |>\n",
    "    group_by(Class) |>\n",
    "    summarize(ave_area = mean(Area),\n",
    "              ave_major_al = mean(MajorAxisLength),\n",
    "              ave_minor_al = mean(MinorAxisLength),\n",
    "              ave_ecc = mean(Eccentricity),\n",
    "              ave_convex = mean(ConvexArea),\n",
    "              ave_per = mean(Perimeter))\n",
    "table_4                                             "
   ]
  },
  {
   "cell_type": "markdown",
   "id": "b39ef18a-4bc8-4f91-838c-17d63f42f107",
   "metadata": {},
   "source": [
    "##### Figure 3 (below): how the relationship between predictor \"MajorAxisLength\" and other predictors determine the type of the raisin"
   ]
  },
  {
   "cell_type": "code",
   "execution_count": 2,
   "id": "8248f437-75a4-456a-bdb4-7c2a8476c775",
   "metadata": {},
   "outputs": [
    {
     "ename": "ERROR",
     "evalue": "Error in ggplot(decide_data, aes(x = MajorAxisLength, y = Area, color = Class)): could not find function \"ggplot\"\n",
     "output_type": "error",
     "traceback": [
      "Error in ggplot(decide_data, aes(x = MajorAxisLength, y = Area, color = Class)): could not find function \"ggplot\"\nTraceback:\n"
     ]
    }
   ],
   "source": [
    "options(repr.plot.width = 12, repr.plot.height = 25)\n",
    "raisin_plot_1 <- decide_data |>\n",
    "    ggplot(aes(x = MajorAxisLength, y = Area, color = Class)) +\n",
    "    geom_point() +\n",
    "    labs(x = \"Major Axis Length\", y = \"Area\", color = \"Type of the raisin\") +\n",
    "    theme(text = element_text(size = 14))\n",
    "\n",
    "raisin_plot_2 <- decide_data |>\n",
    "    ggplot(aes(x = MajorAxisLength, y = MinorAxisLength, color = Class)) +\n",
    "    geom_point() +\n",
    "    labs(x = \"Major Axis Length\", y = \"Minor Axis Length\", color = \"Type of the raisin\") +\n",
    "    theme(text = element_text(size = 14))\n",
    "\n",
    "raisin_plot_3 <- decide_data |>\n",
    "    ggplot(aes(x = MajorAxisLength, y = Eccentricity, color = Class)) +\n",
    "    geom_point() +\n",
    "    labs(x = \"Major Axis Length\", y = \"Eccentricity\", color = \"Type of the raisin\") +\n",
    "    theme(text = element_text(size = 14))\n",
    "\n",
    "raisin_plot_4 <- decide_data |>\n",
    "    ggplot(aes(x = MajorAxisLength, y = ConvexArea, color = Class)) +\n",
    "    geom_point() +\n",
    "    labs(x = \"Major Axis Length\", y = \"Convex Area\", color = \"Type of the raisin\") +\n",
    "    theme(text = element_text(size = 14))\n",
    "\n",
    "raisin_plot_5 <- decide_data |>\n",
    "    ggplot(aes(x = MajorAxisLength, y = Perimeter, color = Class)) +\n",
    "    geom_point() +\n",
    "    labs(x = \"Major Axis Length\", y = \"Perimeter\", color = \"Type of the raisin\") +\n",
    "    theme(text = element_text(size = 14))\n",
    "\n",
    "raisin_relation <- plot_grid(raisin_plot_1, raisin_plot_2, \n",
    "                             raisin_plot_3, raisin_plot_4, \n",
    "                             raisin_plot_5, nrow = 5)\n",
    "raisin_relation"
   ]
  },
  {
   "cell_type": "markdown",
   "id": "84985377-07e9-4f01-9e1f-f4988eab06ed",
   "metadata": {},
   "source": [
    "Chehak, remember to explain in general what we see here!"
   ]
  },
  {
   "cell_type": "markdown",
   "id": "d5418e6c-0b07-4749-9567-da24b069e399",
   "metadata": {},
   "source": [
    "<font color = red>**Part 4: Predictive Data Analysis**\n",
    "\n",
    "__*** As we are predicting the class of raisin in the dataset, we will be using k-nn Classification method here ***__\n",
    "\n",
    "Our codes will cover the following in this part:\n",
    "- Finding prediction accuracy we got from all 5 different combinations\n",
    "- How different models we got from each combination look like when they are applied on the testing data (visualization)\n",
    "    \n",
    "Note: Recall that *MajorAxisLength* is our fixed variable, and *Extent* will not be included in our predictive data analysis"
   ]
  },
  {
   "cell_type": "code",
   "execution_count": 61,
   "id": "36e24ebf-deed-490d-bd40-fa7215928ce5",
   "metadata": {},
   "outputs": [],
   "source": [
    "# The following objects are those that can be used through all 5 combinations:\n",
    "raisin_vfold <- vfold_cv(raisin_train, v = 5, strata = Class)                  # cross-validation\n",
    "gridvals <- tibble(neighbors = seq(from = 1, to = 100, by = 5))                # setting range for k that we will be using to tune our model"
   ]
  },
  {
   "cell_type": "markdown",
   "id": "4e565544-345e-4d19-b3eb-f5ca504dc277",
   "metadata": {},
   "source": [
    "<font color = blue>*Combination 1: MajorAxisLength & Area*"
   ]
  },
  {
   "cell_type": "markdown",
   "id": "641979d9-f617-41c3-b188-ff443a786262",
   "metadata": {},
   "source": [
    "Here, we are training the model on one of the predictors which is Area. We do this by creating a recipe to standardise the predictor. Next, we run a gridsearch on various k values, ranging from 1-100. "
   ]
  },
  {
   "cell_type": "code",
   "execution_count": 62,
   "id": "f1bee037-281f-4620-a4ee-035ca6366b74",
   "metadata": {},
   "outputs": [
    {
     "data": {
      "text/html": [
       "<table class=\"dataframe\">\n",
       "<caption>A tibble: 6 × 7</caption>\n",
       "<thead>\n",
       "\t<tr><th scope=col>neighbors</th><th scope=col>.metric</th><th scope=col>.estimator</th><th scope=col>mean</th><th scope=col>n</th><th scope=col>std_err</th><th scope=col>.config</th></tr>\n",
       "\t<tr><th scope=col>&lt;dbl&gt;</th><th scope=col>&lt;chr&gt;</th><th scope=col>&lt;chr&gt;</th><th scope=col>&lt;dbl&gt;</th><th scope=col>&lt;int&gt;</th><th scope=col>&lt;dbl&gt;</th><th scope=col>&lt;chr&gt;</th></tr>\n",
       "</thead>\n",
       "<tbody>\n",
       "\t<tr><td> 1</td><td>accuracy</td><td>binary</td><td>0.7492063</td><td>5</td><td>0.015592764</td><td>Preprocessor1_Model01</td></tr>\n",
       "\t<tr><td> 6</td><td>accuracy</td><td>binary</td><td>0.7793651</td><td>5</td><td>0.009848947</td><td>Preprocessor1_Model02</td></tr>\n",
       "\t<tr><td>11</td><td>accuracy</td><td>binary</td><td>0.8079365</td><td>5</td><td>0.014504498</td><td>Preprocessor1_Model03</td></tr>\n",
       "\t<tr><td>16</td><td>accuracy</td><td>binary</td><td>0.8063492</td><td>5</td><td>0.013654485</td><td>Preprocessor1_Model04</td></tr>\n",
       "\t<tr><td>21</td><td>accuracy</td><td>binary</td><td>0.8111111</td><td>5</td><td>0.012895299</td><td>Preprocessor1_Model05</td></tr>\n",
       "\t<tr><td>26</td><td>accuracy</td><td>binary</td><td>0.8111111</td><td>5</td><td>0.011054276</td><td>Preprocessor1_Model06</td></tr>\n",
       "</tbody>\n",
       "</table>\n"
      ],
      "text/latex": [
       "A tibble: 6 × 7\n",
       "\\begin{tabular}{lllllll}\n",
       " neighbors & .metric & .estimator & mean & n & std\\_err & .config\\\\\n",
       " <dbl> & <chr> & <chr> & <dbl> & <int> & <dbl> & <chr>\\\\\n",
       "\\hline\n",
       "\t  1 & accuracy & binary & 0.7492063 & 5 & 0.015592764 & Preprocessor1\\_Model01\\\\\n",
       "\t  6 & accuracy & binary & 0.7793651 & 5 & 0.009848947 & Preprocessor1\\_Model02\\\\\n",
       "\t 11 & accuracy & binary & 0.8079365 & 5 & 0.014504498 & Preprocessor1\\_Model03\\\\\n",
       "\t 16 & accuracy & binary & 0.8063492 & 5 & 0.013654485 & Preprocessor1\\_Model04\\\\\n",
       "\t 21 & accuracy & binary & 0.8111111 & 5 & 0.012895299 & Preprocessor1\\_Model05\\\\\n",
       "\t 26 & accuracy & binary & 0.8111111 & 5 & 0.011054276 & Preprocessor1\\_Model06\\\\\n",
       "\\end{tabular}\n"
      ],
      "text/markdown": [
       "\n",
       "A tibble: 6 × 7\n",
       "\n",
       "| neighbors &lt;dbl&gt; | .metric &lt;chr&gt; | .estimator &lt;chr&gt; | mean &lt;dbl&gt; | n &lt;int&gt; | std_err &lt;dbl&gt; | .config &lt;chr&gt; |\n",
       "|---|---|---|---|---|---|---|\n",
       "|  1 | accuracy | binary | 0.7492063 | 5 | 0.015592764 | Preprocessor1_Model01 |\n",
       "|  6 | accuracy | binary | 0.7793651 | 5 | 0.009848947 | Preprocessor1_Model02 |\n",
       "| 11 | accuracy | binary | 0.8079365 | 5 | 0.014504498 | Preprocessor1_Model03 |\n",
       "| 16 | accuracy | binary | 0.8063492 | 5 | 0.013654485 | Preprocessor1_Model04 |\n",
       "| 21 | accuracy | binary | 0.8111111 | 5 | 0.012895299 | Preprocessor1_Model05 |\n",
       "| 26 | accuracy | binary | 0.8111111 | 5 | 0.011054276 | Preprocessor1_Model06 |\n",
       "\n"
      ],
      "text/plain": [
       "  neighbors .metric  .estimator mean      n std_err     .config              \n",
       "1  1        accuracy binary     0.7492063 5 0.015592764 Preprocessor1_Model01\n",
       "2  6        accuracy binary     0.7793651 5 0.009848947 Preprocessor1_Model02\n",
       "3 11        accuracy binary     0.8079365 5 0.014504498 Preprocessor1_Model03\n",
       "4 16        accuracy binary     0.8063492 5 0.013654485 Preprocessor1_Model04\n",
       "5 21        accuracy binary     0.8111111 5 0.012895299 Preprocessor1_Model05\n",
       "6 26        accuracy binary     0.8111111 5 0.011054276 Preprocessor1_Model06"
      ]
     },
     "metadata": {},
     "output_type": "display_data"
    }
   ],
   "source": [
    "area_recipe <- recipe(Class ~ Area, data = raisin_train) |>\n",
    "    step_scale(all_predictors()) |>\n",
    "    step_center(all_predictors())\n",
    "\n",
    "area_spec <- nearest_neighbor(weight_func = \"rectangular\",\n",
    "                              neighbors = tune()) |>\n",
    "    set_engine(\"kknn\") |>\n",
    "    set_mode(\"classification\")\n",
    "\n",
    "area_accuracies <- workflow() |>\n",
    "    add_recipe(area_recipe) |>\n",
    "    add_model(area_spec) |>\n",
    "    tune_grid(resamples = raisin_vfold,\n",
    "              grid = gridvals) |>\n",
    "    collect_metrics() |>\n",
    "    filter(.metric == \"accuracy\")\n",
    "head(area_accuracies)"
   ]
  },
  {
   "cell_type": "markdown",
   "id": "bbfd246b-e393-486d-8be9-9c093e895d5d",
   "metadata": {},
   "source": [
    "Here, we are finding the neighbour configuration with highest accuarcy, out of all the trained models."
   ]
  },
  {
   "cell_type": "code",
   "execution_count": 63,
   "id": "cb416d5f-8ecb-4293-a5ff-bcb12cceb602",
   "metadata": {},
   "outputs": [
    {
     "data": {
      "text/html": [
       "31"
      ],
      "text/latex": [
       "31"
      ],
      "text/markdown": [
       "31"
      ],
      "text/plain": [
       "[1] 31"
      ]
     },
     "metadata": {},
     "output_type": "display_data"
    }
   ],
   "source": [
    "k_suitable <- area_accuracies |>\n",
    "    arrange(desc(mean)) |>\n",
    "    slice(1) |>\n",
    "    pull(neighbors)\n",
    "k_suitable"
   ]
  },
  {
   "cell_type": "markdown",
   "id": "b615fb7e-e6be-49c0-91cb-9199ab6399e0",
   "metadata": {},
   "source": [
    "Now that we have the best k value, we train the knn classifier with that k value on the entire training set, and predict the outcomes on the test set. We then calculate the accuarcy of those predictions."
   ]
  },
  {
   "cell_type": "code",
   "execution_count": 64,
   "id": "16ebc65e-6796-4e17-abe1-c7e8b5f6b0cb",
   "metadata": {},
   "outputs": [
    {
     "data": {
      "text/html": [
       "<table class=\"dataframe\">\n",
       "<caption>A tibble: 6 × 9</caption>\n",
       "<thead>\n",
       "\t<tr><th scope=col>.pred_class</th><th scope=col>Area</th><th scope=col>MajorAxisLength</th><th scope=col>MinorAxisLength</th><th scope=col>Eccentricity</th><th scope=col>ConvexArea</th><th scope=col>Extent</th><th scope=col>Perimeter</th><th scope=col>Class</th></tr>\n",
       "\t<tr><th scope=col>&lt;fct&gt;</th><th scope=col>&lt;dbl&gt;</th><th scope=col>&lt;dbl&gt;</th><th scope=col>&lt;dbl&gt;</th><th scope=col>&lt;dbl&gt;</th><th scope=col>&lt;dbl&gt;</th><th scope=col>&lt;dbl&gt;</th><th scope=col>&lt;dbl&gt;</th><th scope=col>&lt;fct&gt;</th></tr>\n",
       "</thead>\n",
       "<tbody>\n",
       "\t<tr><td>Kecimen</td><td>75166</td><td>406.6907</td><td>243.0324</td><td>0.8018052</td><td>78789</td><td>0.6841296</td><td>1121.786</td><td>Kecimen</td></tr>\n",
       "\t<tr><td>Kecimen</td><td>42256</td><td>323.1896</td><td>172.5759</td><td>0.8454988</td><td>44743</td><td>0.6980309</td><td> 849.728</td><td>Kecimen</td></tr>\n",
       "\t<tr><td>Kecimen</td><td>43295</td><td>304.2845</td><td>182.8110</td><td>0.7994070</td><td>44714</td><td>0.7138382</td><td> 814.680</td><td>Kecimen</td></tr>\n",
       "\t<tr><td>Kecimen</td><td>61251</td><td>301.5078</td><td>273.6599</td><td>0.4197537</td><td>64732</td><td>0.6435957</td><td> 971.769</td><td>Kecimen</td></tr>\n",
       "\t<tr><td>Kecimen</td><td>49882</td><td>287.2643</td><td>222.1859</td><td>0.6338519</td><td>50880</td><td>0.7663778</td><td> 843.764</td><td>Kecimen</td></tr>\n",
       "\t<tr><td>Besni  </td><td>95245</td><td>397.0941</td><td>307.2739</td><td>0.6334223</td><td>97988</td><td>0.7530440</td><td>1201.390</td><td>Kecimen</td></tr>\n",
       "</tbody>\n",
       "</table>\n"
      ],
      "text/latex": [
       "A tibble: 6 × 9\n",
       "\\begin{tabular}{lllllllll}\n",
       " .pred\\_class & Area & MajorAxisLength & MinorAxisLength & Eccentricity & ConvexArea & Extent & Perimeter & Class\\\\\n",
       " <fct> & <dbl> & <dbl> & <dbl> & <dbl> & <dbl> & <dbl> & <dbl> & <fct>\\\\\n",
       "\\hline\n",
       "\t Kecimen & 75166 & 406.6907 & 243.0324 & 0.8018052 & 78789 & 0.6841296 & 1121.786 & Kecimen\\\\\n",
       "\t Kecimen & 42256 & 323.1896 & 172.5759 & 0.8454988 & 44743 & 0.6980309 &  849.728 & Kecimen\\\\\n",
       "\t Kecimen & 43295 & 304.2845 & 182.8110 & 0.7994070 & 44714 & 0.7138382 &  814.680 & Kecimen\\\\\n",
       "\t Kecimen & 61251 & 301.5078 & 273.6599 & 0.4197537 & 64732 & 0.6435957 &  971.769 & Kecimen\\\\\n",
       "\t Kecimen & 49882 & 287.2643 & 222.1859 & 0.6338519 & 50880 & 0.7663778 &  843.764 & Kecimen\\\\\n",
       "\t Besni   & 95245 & 397.0941 & 307.2739 & 0.6334223 & 97988 & 0.7530440 & 1201.390 & Kecimen\\\\\n",
       "\\end{tabular}\n"
      ],
      "text/markdown": [
       "\n",
       "A tibble: 6 × 9\n",
       "\n",
       "| .pred_class &lt;fct&gt; | Area &lt;dbl&gt; | MajorAxisLength &lt;dbl&gt; | MinorAxisLength &lt;dbl&gt; | Eccentricity &lt;dbl&gt; | ConvexArea &lt;dbl&gt; | Extent &lt;dbl&gt; | Perimeter &lt;dbl&gt; | Class &lt;fct&gt; |\n",
       "|---|---|---|---|---|---|---|---|---|\n",
       "| Kecimen | 75166 | 406.6907 | 243.0324 | 0.8018052 | 78789 | 0.6841296 | 1121.786 | Kecimen |\n",
       "| Kecimen | 42256 | 323.1896 | 172.5759 | 0.8454988 | 44743 | 0.6980309 |  849.728 | Kecimen |\n",
       "| Kecimen | 43295 | 304.2845 | 182.8110 | 0.7994070 | 44714 | 0.7138382 |  814.680 | Kecimen |\n",
       "| Kecimen | 61251 | 301.5078 | 273.6599 | 0.4197537 | 64732 | 0.6435957 |  971.769 | Kecimen |\n",
       "| Kecimen | 49882 | 287.2643 | 222.1859 | 0.6338519 | 50880 | 0.7663778 |  843.764 | Kecimen |\n",
       "| Besni   | 95245 | 397.0941 | 307.2739 | 0.6334223 | 97988 | 0.7530440 | 1201.390 | Kecimen |\n",
       "\n"
      ],
      "text/plain": [
       "  .pred_class Area  MajorAxisLength MinorAxisLength Eccentricity ConvexArea\n",
       "1 Kecimen     75166 406.6907        243.0324        0.8018052    78789     \n",
       "2 Kecimen     42256 323.1896        172.5759        0.8454988    44743     \n",
       "3 Kecimen     43295 304.2845        182.8110        0.7994070    44714     \n",
       "4 Kecimen     61251 301.5078        273.6599        0.4197537    64732     \n",
       "5 Kecimen     49882 287.2643        222.1859        0.6338519    50880     \n",
       "6 Besni       95245 397.0941        307.2739        0.6334223    97988     \n",
       "  Extent    Perimeter Class  \n",
       "1 0.6841296 1121.786  Kecimen\n",
       "2 0.6980309  849.728  Kecimen\n",
       "3 0.7138382  814.680  Kecimen\n",
       "4 0.6435957  971.769  Kecimen\n",
       "5 0.7663778  843.764  Kecimen\n",
       "6 0.7530440 1201.390  Kecimen"
      ]
     },
     "metadata": {},
     "output_type": "display_data"
    },
    {
     "data": {
      "text/html": [
       "0.811111111111111"
      ],
      "text/latex": [
       "0.811111111111111"
      ],
      "text/markdown": [
       "0.811111111111111"
      ],
      "text/plain": [
       "[1] 0.8111111"
      ]
     },
     "metadata": {},
     "output_type": "display_data"
    }
   ],
   "source": [
    "area_spec2 <- nearest_neighbor(weight_func = \"rectangular\",\n",
    "                               neighbors = k_suitable) |>\n",
    "    set_engine(\"kknn\") |>\n",
    "    set_mode(\"classification\")\n",
    "\n",
    "area_fit <- workflow() |>\n",
    "    add_recipe(area_recipe) |>\n",
    "    add_model(area_spec2) |>\n",
    "    fit(data = raisin_train)\n",
    "\n",
    "area_test_final <- predict(area_fit, raisin_test) |>\n",
    "    bind_cols(raisin_test)\n",
    "head(area_test_final)\n",
    "\n",
    "area_test_predictions <- area_test_final |>\n",
    "    metrics(truth = Class, estimate = .pred_class) |>\n",
    "    filter(.metric == \"accuracy\") |>\n",
    "    pull(.estimate)\n",
    "area_test_predictions"
   ]
  },
  {
   "cell_type": "markdown",
   "id": "798364b1-5b87-43b1-8daa-4086255f4ba1",
   "metadata": {},
   "source": [
    "<font color = blue>*Combination 2: MajorAxisLength & MinorAxisLength*"
   ]
  },
  {
   "cell_type": "markdown",
   "id": "4f494e83-3719-42ea-aab7-56b6d322600e",
   "metadata": {},
   "source": [
    "Similar to combination 1, we run the same steps but with the predictor MinorAxisLength."
   ]
  },
  {
   "cell_type": "code",
   "execution_count": 65,
   "id": "77a916ed-c19b-4117-b5fc-237844300a55",
   "metadata": {},
   "outputs": [],
   "source": [
    "minor_recipe <- recipe(Class ~ MinorAxisLength, data = raisin_train) |>\n",
    "    step_scale(all_predictors()) |>\n",
    "    step_center(all_predictors())\n",
    "\n",
    "minor_spec <- nearest_neighbor(weight_func = \"rectangular\",\n",
    "                              neighbors = tune()) |>\n",
    "    set_engine(\"kknn\") |>\n",
    "    set_mode(\"classification\")\n",
    "\n",
    "minor_accuracies <- workflow() |>\n",
    "    add_recipe(minor_recipe) |>\n",
    "    add_model(minor_spec) |>\n",
    "    tune_grid(resamples = raisin_vfold,\n",
    "              grid = gridvals) |>\n",
    "    collect_metrics() |>\n",
    "    filter(.metric == \"accuracy\")"
   ]
  },
  {
   "cell_type": "code",
   "execution_count": 66,
   "id": "743f2dce-1285-4422-a6eb-6a1a96eaf22d",
   "metadata": {},
   "outputs": [],
   "source": [
    "k_suitable <- minor_accuracies |>\n",
    "    arrange(desc(mean)) |>\n",
    "    slice(1) |>\n",
    "    pull(neighbors)"
   ]
  },
  {
   "cell_type": "code",
   "execution_count": 67,
   "id": "b8e0afb1-b54c-4bf9-88d5-6e1c954b7bbd",
   "metadata": {},
   "outputs": [
    {
     "data": {
      "text/html": [
       "<table class=\"dataframe\">\n",
       "<caption>A tibble: 6 × 9</caption>\n",
       "<thead>\n",
       "\t<tr><th scope=col>.pred_class</th><th scope=col>Area</th><th scope=col>MajorAxisLength</th><th scope=col>MinorAxisLength</th><th scope=col>Eccentricity</th><th scope=col>ConvexArea</th><th scope=col>Extent</th><th scope=col>Perimeter</th><th scope=col>Class</th></tr>\n",
       "\t<tr><th scope=col>&lt;fct&gt;</th><th scope=col>&lt;dbl&gt;</th><th scope=col>&lt;dbl&gt;</th><th scope=col>&lt;dbl&gt;</th><th scope=col>&lt;dbl&gt;</th><th scope=col>&lt;dbl&gt;</th><th scope=col>&lt;dbl&gt;</th><th scope=col>&lt;dbl&gt;</th><th scope=col>&lt;fct&gt;</th></tr>\n",
       "</thead>\n",
       "<tbody>\n",
       "\t<tr><td>Kecimen</td><td>75166</td><td>406.6907</td><td>243.0324</td><td>0.8018052</td><td>78789</td><td>0.6841296</td><td>1121.786</td><td>Kecimen</td></tr>\n",
       "\t<tr><td>Kecimen</td><td>42256</td><td>323.1896</td><td>172.5759</td><td>0.8454988</td><td>44743</td><td>0.6980309</td><td> 849.728</td><td>Kecimen</td></tr>\n",
       "\t<tr><td>Kecimen</td><td>43295</td><td>304.2845</td><td>182.8110</td><td>0.7994070</td><td>44714</td><td>0.7138382</td><td> 814.680</td><td>Kecimen</td></tr>\n",
       "\t<tr><td>Besni  </td><td>61251</td><td>301.5078</td><td>273.6599</td><td>0.4197537</td><td>64732</td><td>0.6435957</td><td> 971.769</td><td>Kecimen</td></tr>\n",
       "\t<tr><td>Kecimen</td><td>49882</td><td>287.2643</td><td>222.1859</td><td>0.6338519</td><td>50880</td><td>0.7663778</td><td> 843.764</td><td>Kecimen</td></tr>\n",
       "\t<tr><td>Besni  </td><td>95245</td><td>397.0941</td><td>307.2739</td><td>0.6334223</td><td>97988</td><td>0.7530440</td><td>1201.390</td><td>Kecimen</td></tr>\n",
       "</tbody>\n",
       "</table>\n"
      ],
      "text/latex": [
       "A tibble: 6 × 9\n",
       "\\begin{tabular}{lllllllll}\n",
       " .pred\\_class & Area & MajorAxisLength & MinorAxisLength & Eccentricity & ConvexArea & Extent & Perimeter & Class\\\\\n",
       " <fct> & <dbl> & <dbl> & <dbl> & <dbl> & <dbl> & <dbl> & <dbl> & <fct>\\\\\n",
       "\\hline\n",
       "\t Kecimen & 75166 & 406.6907 & 243.0324 & 0.8018052 & 78789 & 0.6841296 & 1121.786 & Kecimen\\\\\n",
       "\t Kecimen & 42256 & 323.1896 & 172.5759 & 0.8454988 & 44743 & 0.6980309 &  849.728 & Kecimen\\\\\n",
       "\t Kecimen & 43295 & 304.2845 & 182.8110 & 0.7994070 & 44714 & 0.7138382 &  814.680 & Kecimen\\\\\n",
       "\t Besni   & 61251 & 301.5078 & 273.6599 & 0.4197537 & 64732 & 0.6435957 &  971.769 & Kecimen\\\\\n",
       "\t Kecimen & 49882 & 287.2643 & 222.1859 & 0.6338519 & 50880 & 0.7663778 &  843.764 & Kecimen\\\\\n",
       "\t Besni   & 95245 & 397.0941 & 307.2739 & 0.6334223 & 97988 & 0.7530440 & 1201.390 & Kecimen\\\\\n",
       "\\end{tabular}\n"
      ],
      "text/markdown": [
       "\n",
       "A tibble: 6 × 9\n",
       "\n",
       "| .pred_class &lt;fct&gt; | Area &lt;dbl&gt; | MajorAxisLength &lt;dbl&gt; | MinorAxisLength &lt;dbl&gt; | Eccentricity &lt;dbl&gt; | ConvexArea &lt;dbl&gt; | Extent &lt;dbl&gt; | Perimeter &lt;dbl&gt; | Class &lt;fct&gt; |\n",
       "|---|---|---|---|---|---|---|---|---|\n",
       "| Kecimen | 75166 | 406.6907 | 243.0324 | 0.8018052 | 78789 | 0.6841296 | 1121.786 | Kecimen |\n",
       "| Kecimen | 42256 | 323.1896 | 172.5759 | 0.8454988 | 44743 | 0.6980309 |  849.728 | Kecimen |\n",
       "| Kecimen | 43295 | 304.2845 | 182.8110 | 0.7994070 | 44714 | 0.7138382 |  814.680 | Kecimen |\n",
       "| Besni   | 61251 | 301.5078 | 273.6599 | 0.4197537 | 64732 | 0.6435957 |  971.769 | Kecimen |\n",
       "| Kecimen | 49882 | 287.2643 | 222.1859 | 0.6338519 | 50880 | 0.7663778 |  843.764 | Kecimen |\n",
       "| Besni   | 95245 | 397.0941 | 307.2739 | 0.6334223 | 97988 | 0.7530440 | 1201.390 | Kecimen |\n",
       "\n"
      ],
      "text/plain": [
       "  .pred_class Area  MajorAxisLength MinorAxisLength Eccentricity ConvexArea\n",
       "1 Kecimen     75166 406.6907        243.0324        0.8018052    78789     \n",
       "2 Kecimen     42256 323.1896        172.5759        0.8454988    44743     \n",
       "3 Kecimen     43295 304.2845        182.8110        0.7994070    44714     \n",
       "4 Besni       61251 301.5078        273.6599        0.4197537    64732     \n",
       "5 Kecimen     49882 287.2643        222.1859        0.6338519    50880     \n",
       "6 Besni       95245 397.0941        307.2739        0.6334223    97988     \n",
       "  Extent    Perimeter Class  \n",
       "1 0.6841296 1121.786  Kecimen\n",
       "2 0.6980309  849.728  Kecimen\n",
       "3 0.7138382  814.680  Kecimen\n",
       "4 0.6435957  971.769  Kecimen\n",
       "5 0.7663778  843.764  Kecimen\n",
       "6 0.7530440 1201.390  Kecimen"
      ]
     },
     "metadata": {},
     "output_type": "display_data"
    },
    {
     "data": {
      "text/html": [
       "0.696296296296296"
      ],
      "text/latex": [
       "0.696296296296296"
      ],
      "text/markdown": [
       "0.696296296296296"
      ],
      "text/plain": [
       "[1] 0.6962963"
      ]
     },
     "metadata": {},
     "output_type": "display_data"
    }
   ],
   "source": [
    "minor_spec2 <- nearest_neighbor(weight_func = \"rectangular\",\n",
    "                               neighbors = k_suitable) |>\n",
    "    set_engine(\"kknn\") |>\n",
    "    set_mode(\"classification\")\n",
    "\n",
    "minor_fit <- workflow() |>\n",
    "    add_recipe(minor_recipe) |>\n",
    "    add_model(minor_spec2) |>\n",
    "    fit(data = raisin_train)\n",
    "\n",
    "minor_test_final <- predict(minor_fit, raisin_test) |>\n",
    "    bind_cols(raisin_test)\n",
    "head(minor_test_final)\n",
    "\n",
    "minor_test_predictions <- minor_test_final |>\n",
    "    metrics(truth = Class, estimate = .pred_class) |>\n",
    "    filter(.metric == \"accuracy\") |>\n",
    "    pull(.estimate)\n",
    "minor_test_predictions"
   ]
  },
  {
   "cell_type": "markdown",
   "id": "45be9119-9810-4d46-be4d-0cd17d271d5b",
   "metadata": {},
   "source": [
    "<font color = blue>*Combination 3: MajorAxisLength & Eccentricity*"
   ]
  },
  {
   "cell_type": "markdown",
   "id": "dca68a8e-3f83-4f93-8441-ca879e8476f6",
   "metadata": {},
   "source": [
    "Similar to combination 1, we run the same steps but with the predictor Eccentricity."
   ]
  },
  {
   "cell_type": "code",
   "execution_count": 68,
   "id": "fd83da05-acd8-4a9f-976f-1401cf7e364a",
   "metadata": {},
   "outputs": [],
   "source": [
    "ecc_recipe <- recipe(Class ~ Eccentricity, data = raisin_train) |>\n",
    "    step_scale(all_predictors()) |>\n",
    "    step_center(all_predictors())\n",
    "\n",
    "ecc_spec <- nearest_neighbor(weight_func = \"rectangular\",\n",
    "                              neighbors = tune()) |>\n",
    "    set_engine(\"kknn\") |>\n",
    "    set_mode(\"classification\")\n",
    "\n",
    "ecc_accuracies <- workflow() |>\n",
    "    add_recipe(ecc_recipe) |>\n",
    "    add_model(ecc_spec) |>\n",
    "    tune_grid(resamples = raisin_vfold,\n",
    "              grid = gridvals) |>\n",
    "    collect_metrics() |>\n",
    "    filter(.metric == \"accuracy\")"
   ]
  },
  {
   "cell_type": "code",
   "execution_count": 69,
   "id": "e91bbd54-b1cb-4fdf-951c-306f9a2edf51",
   "metadata": {},
   "outputs": [],
   "source": [
    "k_suitable <- ecc_accuracies |>\n",
    "    arrange(desc(mean)) |>\n",
    "    slice(1) |>\n",
    "    pull(neighbors)"
   ]
  },
  {
   "cell_type": "code",
   "execution_count": 70,
   "id": "f1f5133d-2df1-458c-8ea1-a1738339e99e",
   "metadata": {},
   "outputs": [
    {
     "data": {
      "text/html": [
       "<table class=\"dataframe\">\n",
       "<caption>A tibble: 6 × 9</caption>\n",
       "<thead>\n",
       "\t<tr><th scope=col>.pred_class</th><th scope=col>Area</th><th scope=col>MajorAxisLength</th><th scope=col>MinorAxisLength</th><th scope=col>Eccentricity</th><th scope=col>ConvexArea</th><th scope=col>Extent</th><th scope=col>Perimeter</th><th scope=col>Class</th></tr>\n",
       "\t<tr><th scope=col>&lt;fct&gt;</th><th scope=col>&lt;dbl&gt;</th><th scope=col>&lt;dbl&gt;</th><th scope=col>&lt;dbl&gt;</th><th scope=col>&lt;dbl&gt;</th><th scope=col>&lt;dbl&gt;</th><th scope=col>&lt;dbl&gt;</th><th scope=col>&lt;dbl&gt;</th><th scope=col>&lt;fct&gt;</th></tr>\n",
       "</thead>\n",
       "<tbody>\n",
       "\t<tr><td>Besni  </td><td>75166</td><td>406.6907</td><td>243.0324</td><td>0.8018052</td><td>78789</td><td>0.6841296</td><td>1121.786</td><td>Kecimen</td></tr>\n",
       "\t<tr><td>Besni  </td><td>42256</td><td>323.1896</td><td>172.5759</td><td>0.8454988</td><td>44743</td><td>0.6980309</td><td> 849.728</td><td>Kecimen</td></tr>\n",
       "\t<tr><td>Kecimen</td><td>43295</td><td>304.2845</td><td>182.8110</td><td>0.7994070</td><td>44714</td><td>0.7138382</td><td> 814.680</td><td>Kecimen</td></tr>\n",
       "\t<tr><td>Kecimen</td><td>61251</td><td>301.5078</td><td>273.6599</td><td>0.4197537</td><td>64732</td><td>0.6435957</td><td> 971.769</td><td>Kecimen</td></tr>\n",
       "\t<tr><td>Kecimen</td><td>49882</td><td>287.2643</td><td>222.1859</td><td>0.6338519</td><td>50880</td><td>0.7663778</td><td> 843.764</td><td>Kecimen</td></tr>\n",
       "\t<tr><td>Kecimen</td><td>95245</td><td>397.0941</td><td>307.2739</td><td>0.6334223</td><td>97988</td><td>0.7530440</td><td>1201.390</td><td>Kecimen</td></tr>\n",
       "</tbody>\n",
       "</table>\n"
      ],
      "text/latex": [
       "A tibble: 6 × 9\n",
       "\\begin{tabular}{lllllllll}\n",
       " .pred\\_class & Area & MajorAxisLength & MinorAxisLength & Eccentricity & ConvexArea & Extent & Perimeter & Class\\\\\n",
       " <fct> & <dbl> & <dbl> & <dbl> & <dbl> & <dbl> & <dbl> & <dbl> & <fct>\\\\\n",
       "\\hline\n",
       "\t Besni   & 75166 & 406.6907 & 243.0324 & 0.8018052 & 78789 & 0.6841296 & 1121.786 & Kecimen\\\\\n",
       "\t Besni   & 42256 & 323.1896 & 172.5759 & 0.8454988 & 44743 & 0.6980309 &  849.728 & Kecimen\\\\\n",
       "\t Kecimen & 43295 & 304.2845 & 182.8110 & 0.7994070 & 44714 & 0.7138382 &  814.680 & Kecimen\\\\\n",
       "\t Kecimen & 61251 & 301.5078 & 273.6599 & 0.4197537 & 64732 & 0.6435957 &  971.769 & Kecimen\\\\\n",
       "\t Kecimen & 49882 & 287.2643 & 222.1859 & 0.6338519 & 50880 & 0.7663778 &  843.764 & Kecimen\\\\\n",
       "\t Kecimen & 95245 & 397.0941 & 307.2739 & 0.6334223 & 97988 & 0.7530440 & 1201.390 & Kecimen\\\\\n",
       "\\end{tabular}\n"
      ],
      "text/markdown": [
       "\n",
       "A tibble: 6 × 9\n",
       "\n",
       "| .pred_class &lt;fct&gt; | Area &lt;dbl&gt; | MajorAxisLength &lt;dbl&gt; | MinorAxisLength &lt;dbl&gt; | Eccentricity &lt;dbl&gt; | ConvexArea &lt;dbl&gt; | Extent &lt;dbl&gt; | Perimeter &lt;dbl&gt; | Class &lt;fct&gt; |\n",
       "|---|---|---|---|---|---|---|---|---|\n",
       "| Besni   | 75166 | 406.6907 | 243.0324 | 0.8018052 | 78789 | 0.6841296 | 1121.786 | Kecimen |\n",
       "| Besni   | 42256 | 323.1896 | 172.5759 | 0.8454988 | 44743 | 0.6980309 |  849.728 | Kecimen |\n",
       "| Kecimen | 43295 | 304.2845 | 182.8110 | 0.7994070 | 44714 | 0.7138382 |  814.680 | Kecimen |\n",
       "| Kecimen | 61251 | 301.5078 | 273.6599 | 0.4197537 | 64732 | 0.6435957 |  971.769 | Kecimen |\n",
       "| Kecimen | 49882 | 287.2643 | 222.1859 | 0.6338519 | 50880 | 0.7663778 |  843.764 | Kecimen |\n",
       "| Kecimen | 95245 | 397.0941 | 307.2739 | 0.6334223 | 97988 | 0.7530440 | 1201.390 | Kecimen |\n",
       "\n"
      ],
      "text/plain": [
       "  .pred_class Area  MajorAxisLength MinorAxisLength Eccentricity ConvexArea\n",
       "1 Besni       75166 406.6907        243.0324        0.8018052    78789     \n",
       "2 Besni       42256 323.1896        172.5759        0.8454988    44743     \n",
       "3 Kecimen     43295 304.2845        182.8110        0.7994070    44714     \n",
       "4 Kecimen     61251 301.5078        273.6599        0.4197537    64732     \n",
       "5 Kecimen     49882 287.2643        222.1859        0.6338519    50880     \n",
       "6 Kecimen     95245 397.0941        307.2739        0.6334223    97988     \n",
       "  Extent    Perimeter Class  \n",
       "1 0.6841296 1121.786  Kecimen\n",
       "2 0.6980309  849.728  Kecimen\n",
       "3 0.7138382  814.680  Kecimen\n",
       "4 0.6435957  971.769  Kecimen\n",
       "5 0.7663778  843.764  Kecimen\n",
       "6 0.7530440 1201.390  Kecimen"
      ]
     },
     "metadata": {},
     "output_type": "display_data"
    },
    {
     "data": {
      "text/html": [
       "0.762962962962963"
      ],
      "text/latex": [
       "0.762962962962963"
      ],
      "text/markdown": [
       "0.762962962962963"
      ],
      "text/plain": [
       "[1] 0.762963"
      ]
     },
     "metadata": {},
     "output_type": "display_data"
    }
   ],
   "source": [
    "ecc_spec2 <- nearest_neighbor(weight_func = \"rectangular\",\n",
    "                               neighbors = k_suitable) |>\n",
    "    set_engine(\"kknn\") |>\n",
    "    set_mode(\"classification\")\n",
    "\n",
    "ecc_fit <- workflow() |>\n",
    "    add_recipe(ecc_recipe) |>\n",
    "    add_model(ecc_spec2) |>\n",
    "    fit(data = raisin_train)\n",
    "\n",
    "ecc_test_final <- predict(ecc_fit, raisin_test) |>\n",
    "    bind_cols(raisin_test)\n",
    "head(ecc_test_final)\n",
    "\n",
    "ecc_test_predictions <- ecc_test_final |>\n",
    "    metrics(truth = Class, estimate = .pred_class) |>\n",
    "    filter(.metric == \"accuracy\") |>\n",
    "    pull(.estimate)\n",
    "ecc_test_predictions"
   ]
  },
  {
   "cell_type": "markdown",
   "id": "40620b6f-80e1-4ed1-abe0-9806c4184e87",
   "metadata": {},
   "source": [
    "<font color = blue>*Combination 4: MajorAxisLength & ConvexArea*"
   ]
  },
  {
   "cell_type": "markdown",
   "id": "d057d848-a734-4ae9-8e06-9b12aba78b2b",
   "metadata": {},
   "source": [
    "Similar to combination 1, we run the same steps but with the predictor ConvexArea."
   ]
  },
  {
   "cell_type": "code",
   "execution_count": 71,
   "id": "3d4696f4-06f5-465e-8687-d3673cbb24cf",
   "metadata": {},
   "outputs": [],
   "source": [
    "convex_recipe <- recipe(Class ~ ConvexArea, data = raisin_train) |>\n",
    "    step_scale(all_predictors()) |>\n",
    "    step_center(all_predictors())\n",
    "\n",
    "convex_spec <- nearest_neighbor(weight_func = \"rectangular\",\n",
    "                              neighbors = tune()) |>\n",
    "    set_engine(\"kknn\") |>\n",
    "    set_mode(\"classification\")\n",
    "\n",
    "convex_accuracies <- workflow() |>\n",
    "    add_recipe(convex_recipe) |>\n",
    "    add_model(convex_spec) |>\n",
    "    tune_grid(resamples = raisin_vfold,\n",
    "              grid = gridvals) |>\n",
    "    collect_metrics() |>\n",
    "    filter(.metric == \"accuracy\")"
   ]
  },
  {
   "cell_type": "code",
   "execution_count": 72,
   "id": "962eac9e-6b0b-4b46-8ef9-f5f784cff979",
   "metadata": {},
   "outputs": [],
   "source": [
    "k_suitable <- convex_accuracies |>\n",
    "    arrange(desc(mean)) |>\n",
    "    slice(1) |>\n",
    "    pull(neighbors)"
   ]
  },
  {
   "cell_type": "code",
   "execution_count": 73,
   "id": "2835dfee-1b45-4c67-8494-a615c59f2be8",
   "metadata": {},
   "outputs": [
    {
     "data": {
      "text/html": [
       "<table class=\"dataframe\">\n",
       "<caption>A tibble: 6 × 9</caption>\n",
       "<thead>\n",
       "\t<tr><th scope=col>.pred_class</th><th scope=col>Area</th><th scope=col>MajorAxisLength</th><th scope=col>MinorAxisLength</th><th scope=col>Eccentricity</th><th scope=col>ConvexArea</th><th scope=col>Extent</th><th scope=col>Perimeter</th><th scope=col>Class</th></tr>\n",
       "\t<tr><th scope=col>&lt;fct&gt;</th><th scope=col>&lt;dbl&gt;</th><th scope=col>&lt;dbl&gt;</th><th scope=col>&lt;dbl&gt;</th><th scope=col>&lt;dbl&gt;</th><th scope=col>&lt;dbl&gt;</th><th scope=col>&lt;dbl&gt;</th><th scope=col>&lt;dbl&gt;</th><th scope=col>&lt;fct&gt;</th></tr>\n",
       "</thead>\n",
       "<tbody>\n",
       "\t<tr><td>Kecimen</td><td>75166</td><td>406.6907</td><td>243.0324</td><td>0.8018052</td><td>78789</td><td>0.6841296</td><td>1121.786</td><td>Kecimen</td></tr>\n",
       "\t<tr><td>Kecimen</td><td>42256</td><td>323.1896</td><td>172.5759</td><td>0.8454988</td><td>44743</td><td>0.6980309</td><td> 849.728</td><td>Kecimen</td></tr>\n",
       "\t<tr><td>Kecimen</td><td>43295</td><td>304.2845</td><td>182.8110</td><td>0.7994070</td><td>44714</td><td>0.7138382</td><td> 814.680</td><td>Kecimen</td></tr>\n",
       "\t<tr><td>Kecimen</td><td>61251</td><td>301.5078</td><td>273.6599</td><td>0.4197537</td><td>64732</td><td>0.6435957</td><td> 971.769</td><td>Kecimen</td></tr>\n",
       "\t<tr><td>Kecimen</td><td>49882</td><td>287.2643</td><td>222.1859</td><td>0.6338519</td><td>50880</td><td>0.7663778</td><td> 843.764</td><td>Kecimen</td></tr>\n",
       "\t<tr><td>Besni  </td><td>95245</td><td>397.0941</td><td>307.2739</td><td>0.6334223</td><td>97988</td><td>0.7530440</td><td>1201.390</td><td>Kecimen</td></tr>\n",
       "</tbody>\n",
       "</table>\n"
      ],
      "text/latex": [
       "A tibble: 6 × 9\n",
       "\\begin{tabular}{lllllllll}\n",
       " .pred\\_class & Area & MajorAxisLength & MinorAxisLength & Eccentricity & ConvexArea & Extent & Perimeter & Class\\\\\n",
       " <fct> & <dbl> & <dbl> & <dbl> & <dbl> & <dbl> & <dbl> & <dbl> & <fct>\\\\\n",
       "\\hline\n",
       "\t Kecimen & 75166 & 406.6907 & 243.0324 & 0.8018052 & 78789 & 0.6841296 & 1121.786 & Kecimen\\\\\n",
       "\t Kecimen & 42256 & 323.1896 & 172.5759 & 0.8454988 & 44743 & 0.6980309 &  849.728 & Kecimen\\\\\n",
       "\t Kecimen & 43295 & 304.2845 & 182.8110 & 0.7994070 & 44714 & 0.7138382 &  814.680 & Kecimen\\\\\n",
       "\t Kecimen & 61251 & 301.5078 & 273.6599 & 0.4197537 & 64732 & 0.6435957 &  971.769 & Kecimen\\\\\n",
       "\t Kecimen & 49882 & 287.2643 & 222.1859 & 0.6338519 & 50880 & 0.7663778 &  843.764 & Kecimen\\\\\n",
       "\t Besni   & 95245 & 397.0941 & 307.2739 & 0.6334223 & 97988 & 0.7530440 & 1201.390 & Kecimen\\\\\n",
       "\\end{tabular}\n"
      ],
      "text/markdown": [
       "\n",
       "A tibble: 6 × 9\n",
       "\n",
       "| .pred_class &lt;fct&gt; | Area &lt;dbl&gt; | MajorAxisLength &lt;dbl&gt; | MinorAxisLength &lt;dbl&gt; | Eccentricity &lt;dbl&gt; | ConvexArea &lt;dbl&gt; | Extent &lt;dbl&gt; | Perimeter &lt;dbl&gt; | Class &lt;fct&gt; |\n",
       "|---|---|---|---|---|---|---|---|---|\n",
       "| Kecimen | 75166 | 406.6907 | 243.0324 | 0.8018052 | 78789 | 0.6841296 | 1121.786 | Kecimen |\n",
       "| Kecimen | 42256 | 323.1896 | 172.5759 | 0.8454988 | 44743 | 0.6980309 |  849.728 | Kecimen |\n",
       "| Kecimen | 43295 | 304.2845 | 182.8110 | 0.7994070 | 44714 | 0.7138382 |  814.680 | Kecimen |\n",
       "| Kecimen | 61251 | 301.5078 | 273.6599 | 0.4197537 | 64732 | 0.6435957 |  971.769 | Kecimen |\n",
       "| Kecimen | 49882 | 287.2643 | 222.1859 | 0.6338519 | 50880 | 0.7663778 |  843.764 | Kecimen |\n",
       "| Besni   | 95245 | 397.0941 | 307.2739 | 0.6334223 | 97988 | 0.7530440 | 1201.390 | Kecimen |\n",
       "\n"
      ],
      "text/plain": [
       "  .pred_class Area  MajorAxisLength MinorAxisLength Eccentricity ConvexArea\n",
       "1 Kecimen     75166 406.6907        243.0324        0.8018052    78789     \n",
       "2 Kecimen     42256 323.1896        172.5759        0.8454988    44743     \n",
       "3 Kecimen     43295 304.2845        182.8110        0.7994070    44714     \n",
       "4 Kecimen     61251 301.5078        273.6599        0.4197537    64732     \n",
       "5 Kecimen     49882 287.2643        222.1859        0.6338519    50880     \n",
       "6 Besni       95245 397.0941        307.2739        0.6334223    97988     \n",
       "  Extent    Perimeter Class  \n",
       "1 0.6841296 1121.786  Kecimen\n",
       "2 0.6980309  849.728  Kecimen\n",
       "3 0.7138382  814.680  Kecimen\n",
       "4 0.6435957  971.769  Kecimen\n",
       "5 0.7663778  843.764  Kecimen\n",
       "6 0.7530440 1201.390  Kecimen"
      ]
     },
     "metadata": {},
     "output_type": "display_data"
    },
    {
     "data": {
      "text/html": [
       "0.814814814814815"
      ],
      "text/latex": [
       "0.814814814814815"
      ],
      "text/markdown": [
       "0.814814814814815"
      ],
      "text/plain": [
       "[1] 0.8148148"
      ]
     },
     "metadata": {},
     "output_type": "display_data"
    }
   ],
   "source": [
    "convex_spec2 <- nearest_neighbor(weight_func = \"rectangular\",\n",
    "                               neighbors = k_suitable) |>\n",
    "    set_engine(\"kknn\") |>\n",
    "    set_mode(\"classification\")\n",
    "\n",
    "convex_fit <- workflow() |>\n",
    "    add_recipe(convex_recipe) |>\n",
    "    add_model(convex_spec2) |>\n",
    "    fit(data = raisin_train)\n",
    "\n",
    "convex_test_final <- predict(convex_fit, raisin_test) |>\n",
    "    bind_cols(raisin_test)\n",
    "head(convex_test_final)\n",
    "\n",
    "convex_test_predictions <- convex_test_final |>\n",
    "    metrics(truth = Class, estimate = .pred_class) |>\n",
    "    filter(.metric == \"accuracy\") |>\n",
    "    pull(.estimate)\n",
    "convex_test_predictions"
   ]
  },
  {
   "cell_type": "markdown",
   "id": "e6fecf68-9bc7-41f4-bc90-bf8f4cb5b78e",
   "metadata": {},
   "source": [
    "<font color = blue>*Combination 5: MajorAxisLength & Perimeter*"
   ]
  },
  {
   "cell_type": "markdown",
   "id": "bff8c21c-922a-4f06-8405-b556b0b4265d",
   "metadata": {},
   "source": [
    "Similar to combination 1, we run the same steps but with the predictor Perimeter."
   ]
  },
  {
   "cell_type": "code",
   "execution_count": 74,
   "id": "3871494a-cdfe-43f4-a2f3-d20eb74573ab",
   "metadata": {},
   "outputs": [],
   "source": [
    "per_recipe <- recipe(Class ~ Perimeter, data = raisin_train) |>\n",
    "    step_scale(all_predictors()) |>\n",
    "    step_center(all_predictors())\n",
    "\n",
    "per_spec <- nearest_neighbor(weight_func = \"rectangular\",\n",
    "                              neighbors = tune()) |>\n",
    "    set_engine(\"kknn\") |>\n",
    "    set_mode(\"classification\")\n",
    "\n",
    "per_accuracies <- workflow() |>\n",
    "    add_recipe(per_recipe) |>\n",
    "    add_model(per_spec) |>\n",
    "    tune_grid(resamples = raisin_vfold,\n",
    "              grid = gridvals) |>\n",
    "    collect_metrics() |>\n",
    "    filter(.metric == \"accuracy\")"
   ]
  },
  {
   "cell_type": "code",
   "execution_count": 75,
   "id": "ff6fbb74-c030-4c37-8e55-a4127335e9ad",
   "metadata": {},
   "outputs": [],
   "source": [
    "k_suitable <- per_accuracies |>\n",
    "    arrange(desc(mean)) |>\n",
    "    slice(1) |>\n",
    "    pull(neighbors)"
   ]
  },
  {
   "cell_type": "code",
   "execution_count": 76,
   "id": "effa8475-d345-4019-ae2b-544d9bd7c7d8",
   "metadata": {},
   "outputs": [
    {
     "data": {
      "text/html": [
       "<table class=\"dataframe\">\n",
       "<caption>A tibble: 6 × 9</caption>\n",
       "<thead>\n",
       "\t<tr><th scope=col>.pred_class</th><th scope=col>Area</th><th scope=col>MajorAxisLength</th><th scope=col>MinorAxisLength</th><th scope=col>Eccentricity</th><th scope=col>ConvexArea</th><th scope=col>Extent</th><th scope=col>Perimeter</th><th scope=col>Class</th></tr>\n",
       "\t<tr><th scope=col>&lt;fct&gt;</th><th scope=col>&lt;dbl&gt;</th><th scope=col>&lt;dbl&gt;</th><th scope=col>&lt;dbl&gt;</th><th scope=col>&lt;dbl&gt;</th><th scope=col>&lt;dbl&gt;</th><th scope=col>&lt;dbl&gt;</th><th scope=col>&lt;dbl&gt;</th><th scope=col>&lt;fct&gt;</th></tr>\n",
       "</thead>\n",
       "<tbody>\n",
       "\t<tr><td>Kecimen</td><td>75166</td><td>406.6907</td><td>243.0324</td><td>0.8018052</td><td>78789</td><td>0.6841296</td><td>1121.786</td><td>Kecimen</td></tr>\n",
       "\t<tr><td>Kecimen</td><td>42256</td><td>323.1896</td><td>172.5759</td><td>0.8454988</td><td>44743</td><td>0.6980309</td><td> 849.728</td><td>Kecimen</td></tr>\n",
       "\t<tr><td>Kecimen</td><td>43295</td><td>304.2845</td><td>182.8110</td><td>0.7994070</td><td>44714</td><td>0.7138382</td><td> 814.680</td><td>Kecimen</td></tr>\n",
       "\t<tr><td>Kecimen</td><td>61251</td><td>301.5078</td><td>273.6599</td><td>0.4197537</td><td>64732</td><td>0.6435957</td><td> 971.769</td><td>Kecimen</td></tr>\n",
       "\t<tr><td>Kecimen</td><td>49882</td><td>287.2643</td><td>222.1859</td><td>0.6338519</td><td>50880</td><td>0.7663778</td><td> 843.764</td><td>Kecimen</td></tr>\n",
       "\t<tr><td>Besni  </td><td>95245</td><td>397.0941</td><td>307.2739</td><td>0.6334223</td><td>97988</td><td>0.7530440</td><td>1201.390</td><td>Kecimen</td></tr>\n",
       "</tbody>\n",
       "</table>\n"
      ],
      "text/latex": [
       "A tibble: 6 × 9\n",
       "\\begin{tabular}{lllllllll}\n",
       " .pred\\_class & Area & MajorAxisLength & MinorAxisLength & Eccentricity & ConvexArea & Extent & Perimeter & Class\\\\\n",
       " <fct> & <dbl> & <dbl> & <dbl> & <dbl> & <dbl> & <dbl> & <dbl> & <fct>\\\\\n",
       "\\hline\n",
       "\t Kecimen & 75166 & 406.6907 & 243.0324 & 0.8018052 & 78789 & 0.6841296 & 1121.786 & Kecimen\\\\\n",
       "\t Kecimen & 42256 & 323.1896 & 172.5759 & 0.8454988 & 44743 & 0.6980309 &  849.728 & Kecimen\\\\\n",
       "\t Kecimen & 43295 & 304.2845 & 182.8110 & 0.7994070 & 44714 & 0.7138382 &  814.680 & Kecimen\\\\\n",
       "\t Kecimen & 61251 & 301.5078 & 273.6599 & 0.4197537 & 64732 & 0.6435957 &  971.769 & Kecimen\\\\\n",
       "\t Kecimen & 49882 & 287.2643 & 222.1859 & 0.6338519 & 50880 & 0.7663778 &  843.764 & Kecimen\\\\\n",
       "\t Besni   & 95245 & 397.0941 & 307.2739 & 0.6334223 & 97988 & 0.7530440 & 1201.390 & Kecimen\\\\\n",
       "\\end{tabular}\n"
      ],
      "text/markdown": [
       "\n",
       "A tibble: 6 × 9\n",
       "\n",
       "| .pred_class &lt;fct&gt; | Area &lt;dbl&gt; | MajorAxisLength &lt;dbl&gt; | MinorAxisLength &lt;dbl&gt; | Eccentricity &lt;dbl&gt; | ConvexArea &lt;dbl&gt; | Extent &lt;dbl&gt; | Perimeter &lt;dbl&gt; | Class &lt;fct&gt; |\n",
       "|---|---|---|---|---|---|---|---|---|\n",
       "| Kecimen | 75166 | 406.6907 | 243.0324 | 0.8018052 | 78789 | 0.6841296 | 1121.786 | Kecimen |\n",
       "| Kecimen | 42256 | 323.1896 | 172.5759 | 0.8454988 | 44743 | 0.6980309 |  849.728 | Kecimen |\n",
       "| Kecimen | 43295 | 304.2845 | 182.8110 | 0.7994070 | 44714 | 0.7138382 |  814.680 | Kecimen |\n",
       "| Kecimen | 61251 | 301.5078 | 273.6599 | 0.4197537 | 64732 | 0.6435957 |  971.769 | Kecimen |\n",
       "| Kecimen | 49882 | 287.2643 | 222.1859 | 0.6338519 | 50880 | 0.7663778 |  843.764 | Kecimen |\n",
       "| Besni   | 95245 | 397.0941 | 307.2739 | 0.6334223 | 97988 | 0.7530440 | 1201.390 | Kecimen |\n",
       "\n"
      ],
      "text/plain": [
       "  .pred_class Area  MajorAxisLength MinorAxisLength Eccentricity ConvexArea\n",
       "1 Kecimen     75166 406.6907        243.0324        0.8018052    78789     \n",
       "2 Kecimen     42256 323.1896        172.5759        0.8454988    44743     \n",
       "3 Kecimen     43295 304.2845        182.8110        0.7994070    44714     \n",
       "4 Kecimen     61251 301.5078        273.6599        0.4197537    64732     \n",
       "5 Kecimen     49882 287.2643        222.1859        0.6338519    50880     \n",
       "6 Besni       95245 397.0941        307.2739        0.6334223    97988     \n",
       "  Extent    Perimeter Class  \n",
       "1 0.6841296 1121.786  Kecimen\n",
       "2 0.6980309  849.728  Kecimen\n",
       "3 0.7138382  814.680  Kecimen\n",
       "4 0.6435957  971.769  Kecimen\n",
       "5 0.7663778  843.764  Kecimen\n",
       "6 0.7530440 1201.390  Kecimen"
      ]
     },
     "metadata": {},
     "output_type": "display_data"
    },
    {
     "data": {
      "text/html": [
       "0.851851851851852"
      ],
      "text/latex": [
       "0.851851851851852"
      ],
      "text/markdown": [
       "0.851851851851852"
      ],
      "text/plain": [
       "[1] 0.8518519"
      ]
     },
     "metadata": {},
     "output_type": "display_data"
    }
   ],
   "source": [
    "per_spec2 <- nearest_neighbor(weight_func = \"rectangular\",\n",
    "                               neighbors = k_suitable) |>\n",
    "    set_engine(\"kknn\") |>\n",
    "    set_mode(\"classification\")\n",
    "\n",
    "per_fit <- workflow() |>\n",
    "    add_recipe(per_recipe) |>\n",
    "    add_model(per_spec2) |>\n",
    "    fit(data = raisin_train)\n",
    "\n",
    "per_test_final <- predict(per_fit, raisin_test) |>\n",
    "    bind_cols(raisin_test)\n",
    "head(per_test_final)\n",
    "\n",
    "per_test_predictions <- per_test_final |>\n",
    "    metrics(truth = Class, estimate = .pred_class) |>\n",
    "    filter(.metric == \"accuracy\") |>\n",
    "    pull(.estimate)\n",
    "per_test_predictions"
   ]
  },
  {
   "cell_type": "markdown",
   "id": "de2895d1-fc36-408d-b1ec-2323a856c6d6",
   "metadata": {},
   "source": [
    "<font color = red>__Part 5: Results and Conclusions__\n",
    "\n",
    "Our codes will cover the following in this part:\n",
    "- Making a tibble combing all of measuring accuracies obtained from the above 5 combinations\n",
    "- Comparing which combination will give us the best prediction on raisin type"
   ]
  },
  {
   "cell_type": "markdown",
   "id": "78f5f7e3-bab9-4c25-b4cb-522e51168600",
   "metadata": {},
   "source": [
    "Now, we list all the accuracies of the models trained wrt their predictor combination. "
   ]
  },
  {
   "cell_type": "code",
   "execution_count": 77,
   "id": "d5f37ac8-8d8f-4ce0-9214-55596cb95b12",
   "metadata": {},
   "outputs": [
    {
     "data": {
      "text/html": [
       "<table class=\"dataframe\">\n",
       "<caption>A tibble: 5 × 2</caption>\n",
       "<thead>\n",
       "\t<tr><th scope=col>var_name</th><th scope=col>accuracy</th></tr>\n",
       "\t<tr><th scope=col>&lt;chr&gt;</th><th scope=col>&lt;dbl&gt;</th></tr>\n",
       "</thead>\n",
       "<tbody>\n",
       "\t<tr><td>Area           </td><td>0.8111111</td></tr>\n",
       "\t<tr><td>MinorAxisLength</td><td>0.6962963</td></tr>\n",
       "\t<tr><td>Eccentricity   </td><td>0.7629630</td></tr>\n",
       "\t<tr><td>ConvexArea     </td><td>0.8148148</td></tr>\n",
       "\t<tr><td>Perimeter      </td><td>0.8518519</td></tr>\n",
       "</tbody>\n",
       "</table>\n"
      ],
      "text/latex": [
       "A tibble: 5 × 2\n",
       "\\begin{tabular}{ll}\n",
       " var\\_name & accuracy\\\\\n",
       " <chr> & <dbl>\\\\\n",
       "\\hline\n",
       "\t Area            & 0.8111111\\\\\n",
       "\t MinorAxisLength & 0.6962963\\\\\n",
       "\t Eccentricity    & 0.7629630\\\\\n",
       "\t ConvexArea      & 0.8148148\\\\\n",
       "\t Perimeter       & 0.8518519\\\\\n",
       "\\end{tabular}\n"
      ],
      "text/markdown": [
       "\n",
       "A tibble: 5 × 2\n",
       "\n",
       "| var_name &lt;chr&gt; | accuracy &lt;dbl&gt; |\n",
       "|---|---|\n",
       "| Area            | 0.8111111 |\n",
       "| MinorAxisLength | 0.6962963 |\n",
       "| Eccentricity    | 0.7629630 |\n",
       "| ConvexArea      | 0.8148148 |\n",
       "| Perimeter       | 0.8518519 |\n",
       "\n"
      ],
      "text/plain": [
       "  var_name        accuracy \n",
       "1 Area            0.8111111\n",
       "2 MinorAxisLength 0.6962963\n",
       "3 Eccentricity    0.7629630\n",
       "4 ConvexArea      0.8148148\n",
       "5 Perimeter       0.8518519"
      ]
     },
     "metadata": {},
     "output_type": "display_data"
    }
   ],
   "source": [
    "all_accuracies <- tibble(var_name = c(\"Area\", \"MinorAxisLength\", \"Eccentricity\", \"ConvexArea\", \"Perimeter\"),\n",
    "    accuracy = c(area_test_predictions, minor_test_predictions, \n",
    "                 ecc_test_predictions, convex_test_predictions, per_test_predictions))       \n",
    "all_accuracies"
   ]
  },
  {
   "cell_type": "markdown",
   "id": "d76e9483-aec9-4440-8e2f-69bcbbd941de",
   "metadata": {},
   "source": [
    "Putting the accuracies in descending order to find the best one."
   ]
  },
  {
   "cell_type": "markdown",
   "id": "4dbaaffe-84b1-4074-ba99-a3a3f85c3472",
   "metadata": {
    "tags": []
   },
   "source": [
    "##### Table 5 (below): Prediction accuracies for all 5 combinations"
   ]
  },
  {
   "cell_type": "code",
   "execution_count": 98,
   "id": "c93c9f4c-2335-4749-8cca-2cc9d214e5f8",
   "metadata": {},
   "outputs": [
    {
     "data": {
      "text/html": [
       "<table class=\"dataframe\">\n",
       "<caption>A tibble: 5 × 2</caption>\n",
       "<thead>\n",
       "\t<tr><th scope=col>var_name</th><th scope=col>accuracy</th></tr>\n",
       "\t<tr><th scope=col>&lt;chr&gt;</th><th scope=col>&lt;dbl&gt;</th></tr>\n",
       "</thead>\n",
       "<tbody>\n",
       "\t<tr><td>Perimeter      </td><td>0.8518519</td></tr>\n",
       "\t<tr><td>ConvexArea     </td><td>0.8148148</td></tr>\n",
       "\t<tr><td>Area           </td><td>0.8111111</td></tr>\n",
       "\t<tr><td>Eccentricity   </td><td>0.7629630</td></tr>\n",
       "\t<tr><td>MinorAxisLength</td><td>0.6962963</td></tr>\n",
       "</tbody>\n",
       "</table>\n"
      ],
      "text/latex": [
       "A tibble: 5 × 2\n",
       "\\begin{tabular}{ll}\n",
       " var\\_name & accuracy\\\\\n",
       " <chr> & <dbl>\\\\\n",
       "\\hline\n",
       "\t Perimeter       & 0.8518519\\\\\n",
       "\t ConvexArea      & 0.8148148\\\\\n",
       "\t Area            & 0.8111111\\\\\n",
       "\t Eccentricity    & 0.7629630\\\\\n",
       "\t MinorAxisLength & 0.6962963\\\\\n",
       "\\end{tabular}\n"
      ],
      "text/markdown": [
       "\n",
       "A tibble: 5 × 2\n",
       "\n",
       "| var_name &lt;chr&gt; | accuracy &lt;dbl&gt; |\n",
       "|---|---|\n",
       "| Perimeter       | 0.8518519 |\n",
       "| ConvexArea      | 0.8148148 |\n",
       "| Area            | 0.8111111 |\n",
       "| Eccentricity    | 0.7629630 |\n",
       "| MinorAxisLength | 0.6962963 |\n",
       "\n"
      ],
      "text/plain": [
       "  var_name        accuracy \n",
       "1 Perimeter       0.8518519\n",
       "2 ConvexArea      0.8148148\n",
       "3 Area            0.8111111\n",
       "4 Eccentricity    0.7629630\n",
       "5 MinorAxisLength 0.6962963"
      ]
     },
     "metadata": {},
     "output_type": "display_data"
    }
   ],
   "source": [
    "best_comb <- all_accuracies |>\n",
    "    arrange(desc(accuracy))\n",
    "best_comb"
   ]
  },
  {
   "cell_type": "markdown",
   "id": "4edcf790-ceb4-40d6-a6c0-843e9c9fb61f",
   "metadata": {},
   "source": [
    "##### Figure 4 (below): Wrong predictions made by MajorAxisLength & Perimeter model and Correct class labels for all testing data"
   ]
  },
  {
   "cell_type": "code",
   "execution_count": 105,
   "id": "56e975d9-c926-4fa9-9b0a-25f9ff79bfef",
   "metadata": {},
   "outputs": [
    {
     "data": {
      "image/png": "[encoded data removed]",
      "text/plain": [
       "plot without title"
      ]
     },
     "metadata": {
      "image/png": {
       "height": 480,
       "width": 1320
      }
     },
     "output_type": "display_data"
    }
   ],
   "source": [
    "options(repr.plot.width = 22, repr.plot.height = 8)\n",
    "\n",
    "wrong_prediction <- per_test_final |>\n",
    "    filter(.pred_class != Class)\n",
    "\n",
    "wrong_prediction_graph <- wrong_prediction |>\n",
    "    ggplot(aes(x = MajorAxisLength, y = Perimeter, color = .pred_class)) +\n",
    "    geom_point() +\n",
    "    labs(x = \"Major Axis Length\", y = \"Perimeter\", color = \"Type of the raisin\") +\n",
    "    theme(text = element_text(size = 14))\n",
    "\n",
    "correct_type_raisin <- per_test_final |>\n",
    "    ggplot(aes(x = MajorAxisLength, y = Perimeter, color = Class)) +\n",
    "    geom_point() +\n",
    "    labs(x = \"Major Axis Length\", y = \"Perimeter\", color = \"Type of the raisin\") +\n",
    "    theme(text = element_text(size = 14))\n",
    "\n",
    "compare_wrong_vs_correct <- plot_grid(wrong_prediction_graph, correct_type_raisin, ncol = 2)\n",
    "compare_wrong_vs_correct"
   ]
  },
  {
   "cell_type": "markdown",
   "id": "f0db4257-726e-4d01-b301-372209f66d50",
   "metadata": {},
   "source": [
    "The left graph shows the predicted classes which our knn classifier made wrong based on the combination of predictors perimeter and MajorAxisLength, whereas the right graph shows the actual class distribution.\n",
    "\n",
    "It can be observed in the left graph that class of kecimen was predicted wrong compared to the actual right graph. This is because the k nearest neighbours near it was of the type kecinen where in actual it belonged to the class of Besni. \n",
    "Similarly besni was predicted wrong in the left graph as it had all the classes of besni near it but it belonged to the class of kecimen.\n",
    "There is also a Kecimen outlier on the top right corner of the graph that is missclassified, because it lied in the far corner of the graph. This is because the closest labels to it were Besni."
   ]
  }
 ],
 "metadata": {
  "kernelspec": {
   "display_name": "R",
   "language": "R",
   "name": "ir"
  },
  "language_info": {
   "codemirror_mode": "r",
   "file_extension": ".r",
   "mimetype": "text/x-r-source",
   "name": "R",
   "pygments_lexer": "r",
   "version": "4.1.3"
  }
 },
 "nbformat": 4,
 "nbformat_minor": 5
}

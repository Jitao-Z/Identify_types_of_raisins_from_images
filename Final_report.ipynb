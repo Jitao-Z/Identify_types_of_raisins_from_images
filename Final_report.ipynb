{
 "cells": [
  {
   "cell_type": "markdown",
   "id": "3069aef6-3490-48e7-9a2c-055bdefcd39b",
   "metadata": {},
   "source": [
    "### Data Processing and Result Discovery"
   ]
  },
  {
   "cell_type": "markdown",
   "id": "ccd05578-d2e6-4d6d-b0a4-a4c4608bd85d",
   "metadata": {},
   "source": [
    "Now, this part is really where we start to code and do data analysis. In order to keep track our process, we divide it into the following x parts:\n",
    "\n",
    "- Part 1: Preparation\n",
    "- Part 2: Data Preprocessing\n",
    "- Part 3: Exploratory Data Analysis\n",
    "- Part 4: Predictive Data Anlysis\n",
    "- Part 5: Results and Conclusions\n",
    "\n",
    "We will demonstrate each part detailedly in the below sections."
   ]
  },
  {
   "cell_type": "markdown",
   "id": "9b7e328d-06ba-46e2-8780-5be8bf5711b2",
   "metadata": {},
   "source": [
    "<font color = red>__Part 1: Preparation__\n",
    "\n",
    "Our codes will cover the following in this part:\n",
    "- Inputting all needed packages and functions\n",
    "- Setting the seed\n",
    "- Loading data that we will be using"
   ]
  },
  {
   "cell_type": "code",
   "execution_count": 123,
   "id": "0b393823-76ae-40f8-9ca3-61ab827eff36",
   "metadata": {},
   "outputs": [],
   "source": [
    "library(tidyverse)\n",
    "library(tidymodels)\n",
    "library(repr)\n",
    "library(readxl)\n",
    "library(cowplot)"
   ]
  },
  {
   "cell_type": "code",
   "execution_count": 124,
   "id": "f56e2fbc-a90b-4a11-8cb6-f55570ccea68",
   "metadata": {},
   "outputs": [],
   "source": [
    "set.seed(2535) "
   ]
  },
  {
   "cell_type": "code",
   "execution_count": 125,
   "id": "a9c6f70e-3b00-4682-b558-23fdc3fd74c0",
   "metadata": {},
   "outputs": [
    {
     "data": {
      "text/html": [
       "<table class=\"dataframe\">\n",
       "<caption>A tibble: 6 × 8</caption>\n",
       "<thead>\n",
       "\t<tr><th scope=col>Area</th><th scope=col>MajorAxisLength</th><th scope=col>MinorAxisLength</th><th scope=col>Eccentricity</th><th scope=col>ConvexArea</th><th scope=col>Extent</th><th scope=col>Perimeter</th><th scope=col>Class</th></tr>\n",
       "\t<tr><th scope=col>&lt;dbl&gt;</th><th scope=col>&lt;dbl&gt;</th><th scope=col>&lt;dbl&gt;</th><th scope=col>&lt;dbl&gt;</th><th scope=col>&lt;dbl&gt;</th><th scope=col>&lt;dbl&gt;</th><th scope=col>&lt;dbl&gt;</th><th scope=col>&lt;chr&gt;</th></tr>\n",
       "</thead>\n",
       "<tbody>\n",
       "\t<tr><td>87524</td><td>442.2460</td><td>253.2912</td><td>0.8197384</td><td>90546</td><td>0.7586506</td><td>1184.040</td><td>Kecimen</td></tr>\n",
       "\t<tr><td>75166</td><td>406.6907</td><td>243.0324</td><td>0.8018052</td><td>78789</td><td>0.6841296</td><td>1121.786</td><td>Kecimen</td></tr>\n",
       "\t<tr><td>90856</td><td>442.2670</td><td>266.3283</td><td>0.7983536</td><td>93717</td><td>0.6376128</td><td>1208.575</td><td>Kecimen</td></tr>\n",
       "\t<tr><td>45928</td><td>286.5406</td><td>208.7600</td><td>0.6849892</td><td>47336</td><td>0.6995994</td><td> 844.162</td><td>Kecimen</td></tr>\n",
       "\t<tr><td>79408</td><td>352.1908</td><td>290.8275</td><td>0.5640113</td><td>81463</td><td>0.7927719</td><td>1073.251</td><td>Kecimen</td></tr>\n",
       "\t<tr><td>49242</td><td>318.1254</td><td>200.1221</td><td>0.7773513</td><td>51368</td><td>0.6584564</td><td> 881.836</td><td>Kecimen</td></tr>\n",
       "</tbody>\n",
       "</table>\n"
      ],
      "text/latex": [
       "A tibble: 6 × 8\n",
       "\\begin{tabular}{llllllll}\n",
       " Area & MajorAxisLength & MinorAxisLength & Eccentricity & ConvexArea & Extent & Perimeter & Class\\\\\n",
       " <dbl> & <dbl> & <dbl> & <dbl> & <dbl> & <dbl> & <dbl> & <chr>\\\\\n",
       "\\hline\n",
       "\t 87524 & 442.2460 & 253.2912 & 0.8197384 & 90546 & 0.7586506 & 1184.040 & Kecimen\\\\\n",
       "\t 75166 & 406.6907 & 243.0324 & 0.8018052 & 78789 & 0.6841296 & 1121.786 & Kecimen\\\\\n",
       "\t 90856 & 442.2670 & 266.3283 & 0.7983536 & 93717 & 0.6376128 & 1208.575 & Kecimen\\\\\n",
       "\t 45928 & 286.5406 & 208.7600 & 0.6849892 & 47336 & 0.6995994 &  844.162 & Kecimen\\\\\n",
       "\t 79408 & 352.1908 & 290.8275 & 0.5640113 & 81463 & 0.7927719 & 1073.251 & Kecimen\\\\\n",
       "\t 49242 & 318.1254 & 200.1221 & 0.7773513 & 51368 & 0.6584564 &  881.836 & Kecimen\\\\\n",
       "\\end{tabular}\n"
      ],
      "text/markdown": [
       "\n",
       "A tibble: 6 × 8\n",
       "\n",
       "| Area &lt;dbl&gt; | MajorAxisLength &lt;dbl&gt; | MinorAxisLength &lt;dbl&gt; | Eccentricity &lt;dbl&gt; | ConvexArea &lt;dbl&gt; | Extent &lt;dbl&gt; | Perimeter &lt;dbl&gt; | Class &lt;chr&gt; |\n",
       "|---|---|---|---|---|---|---|---|\n",
       "| 87524 | 442.2460 | 253.2912 | 0.8197384 | 90546 | 0.7586506 | 1184.040 | Kecimen |\n",
       "| 75166 | 406.6907 | 243.0324 | 0.8018052 | 78789 | 0.6841296 | 1121.786 | Kecimen |\n",
       "| 90856 | 442.2670 | 266.3283 | 0.7983536 | 93717 | 0.6376128 | 1208.575 | Kecimen |\n",
       "| 45928 | 286.5406 | 208.7600 | 0.6849892 | 47336 | 0.6995994 |  844.162 | Kecimen |\n",
       "| 79408 | 352.1908 | 290.8275 | 0.5640113 | 81463 | 0.7927719 | 1073.251 | Kecimen |\n",
       "| 49242 | 318.1254 | 200.1221 | 0.7773513 | 51368 | 0.6584564 |  881.836 | Kecimen |\n",
       "\n"
      ],
      "text/plain": [
       "  Area  MajorAxisLength MinorAxisLength Eccentricity ConvexArea Extent   \n",
       "1 87524 442.2460        253.2912        0.8197384    90546      0.7586506\n",
       "2 75166 406.6907        243.0324        0.8018052    78789      0.6841296\n",
       "3 90856 442.2670        266.3283        0.7983536    93717      0.6376128\n",
       "4 45928 286.5406        208.7600        0.6849892    47336      0.6995994\n",
       "5 79408 352.1908        290.8275        0.5640113    81463      0.7927719\n",
       "6 49242 318.1254        200.1221        0.7773513    51368      0.6584564\n",
       "  Perimeter Class  \n",
       "1 1184.040  Kecimen\n",
       "2 1121.786  Kecimen\n",
       "3 1208.575  Kecimen\n",
       "4  844.162  Kecimen\n",
       "5 1073.251  Kecimen\n",
       "6  881.836  Kecimen"
      ]
     },
     "metadata": {},
     "output_type": "display_data"
    }
   ],
   "source": [
    "url <- \"https://drive.google.com/uc?export=download&id=11KyK-H_2aP1I4FYR1aAC0wE4JB9BbAqz\"\n",
    "download.file(url, \"raisin.xlsx\")\n",
    "raisin <- read_excel(\"raisin.xlsx\")\n",
    "head(raisin)"
   ]
  },
  {
   "cell_type": "markdown",
   "id": "0c6cb048-6c67-4935-968a-3f5ac590f184",
   "metadata": {},
   "source": [
    "<font color = red>__Part 2: Data Preprocessing__\n",
    "\n",
    "Our codes will cover the following in this part:\n",
    "- Cleaning and wrangling the data\n",
    "- Creating the train / test split \n",
    "- Demonstrating why we will use MajorAxisLength as our fixed variable and why we will discard one of our combinations (MajorAxisLength with Extent) even before our Part 4:"
   ]
  },
  {
   "cell_type": "code",
   "execution_count": 126,
   "id": "29f574ca-0ca3-4f10-81bd-0479a7f11bfa",
   "metadata": {},
   "outputs": [
    {
     "data": {
      "text/html": [
       "<table class=\"dataframe\">\n",
       "<caption>A tibble: 6 × 8</caption>\n",
       "<thead>\n",
       "\t<tr><th scope=col>Area</th><th scope=col>MajorAxisLength</th><th scope=col>MinorAxisLength</th><th scope=col>Eccentricity</th><th scope=col>ConvexArea</th><th scope=col>Extent</th><th scope=col>Perimeter</th><th scope=col>Class</th></tr>\n",
       "\t<tr><th scope=col>&lt;dbl&gt;</th><th scope=col>&lt;dbl&gt;</th><th scope=col>&lt;dbl&gt;</th><th scope=col>&lt;dbl&gt;</th><th scope=col>&lt;dbl&gt;</th><th scope=col>&lt;dbl&gt;</th><th scope=col>&lt;dbl&gt;</th><th scope=col>&lt;fct&gt;</th></tr>\n",
       "</thead>\n",
       "<tbody>\n",
       "\t<tr><td>87524</td><td>442.2460</td><td>253.2912</td><td>0.8197384</td><td>90546</td><td>0.7586506</td><td>1184.040</td><td>Kecimen</td></tr>\n",
       "\t<tr><td>75166</td><td>406.6907</td><td>243.0324</td><td>0.8018052</td><td>78789</td><td>0.6841296</td><td>1121.786</td><td>Kecimen</td></tr>\n",
       "\t<tr><td>90856</td><td>442.2670</td><td>266.3283</td><td>0.7983536</td><td>93717</td><td>0.6376128</td><td>1208.575</td><td>Kecimen</td></tr>\n",
       "\t<tr><td>45928</td><td>286.5406</td><td>208.7600</td><td>0.6849892</td><td>47336</td><td>0.6995994</td><td> 844.162</td><td>Kecimen</td></tr>\n",
       "\t<tr><td>79408</td><td>352.1908</td><td>290.8275</td><td>0.5640113</td><td>81463</td><td>0.7927719</td><td>1073.251</td><td>Kecimen</td></tr>\n",
       "\t<tr><td>49242</td><td>318.1254</td><td>200.1221</td><td>0.7773513</td><td>51368</td><td>0.6584564</td><td> 881.836</td><td>Kecimen</td></tr>\n",
       "</tbody>\n",
       "</table>\n"
      ],
      "text/latex": [
       "A tibble: 6 × 8\n",
       "\\begin{tabular}{llllllll}\n",
       " Area & MajorAxisLength & MinorAxisLength & Eccentricity & ConvexArea & Extent & Perimeter & Class\\\\\n",
       " <dbl> & <dbl> & <dbl> & <dbl> & <dbl> & <dbl> & <dbl> & <fct>\\\\\n",
       "\\hline\n",
       "\t 87524 & 442.2460 & 253.2912 & 0.8197384 & 90546 & 0.7586506 & 1184.040 & Kecimen\\\\\n",
       "\t 75166 & 406.6907 & 243.0324 & 0.8018052 & 78789 & 0.6841296 & 1121.786 & Kecimen\\\\\n",
       "\t 90856 & 442.2670 & 266.3283 & 0.7983536 & 93717 & 0.6376128 & 1208.575 & Kecimen\\\\\n",
       "\t 45928 & 286.5406 & 208.7600 & 0.6849892 & 47336 & 0.6995994 &  844.162 & Kecimen\\\\\n",
       "\t 79408 & 352.1908 & 290.8275 & 0.5640113 & 81463 & 0.7927719 & 1073.251 & Kecimen\\\\\n",
       "\t 49242 & 318.1254 & 200.1221 & 0.7773513 & 51368 & 0.6584564 &  881.836 & Kecimen\\\\\n",
       "\\end{tabular}\n"
      ],
      "text/markdown": [
       "\n",
       "A tibble: 6 × 8\n",
       "\n",
       "| Area &lt;dbl&gt; | MajorAxisLength &lt;dbl&gt; | MinorAxisLength &lt;dbl&gt; | Eccentricity &lt;dbl&gt; | ConvexArea &lt;dbl&gt; | Extent &lt;dbl&gt; | Perimeter &lt;dbl&gt; | Class &lt;fct&gt; |\n",
       "|---|---|---|---|---|---|---|---|\n",
       "| 87524 | 442.2460 | 253.2912 | 0.8197384 | 90546 | 0.7586506 | 1184.040 | Kecimen |\n",
       "| 75166 | 406.6907 | 243.0324 | 0.8018052 | 78789 | 0.6841296 | 1121.786 | Kecimen |\n",
       "| 90856 | 442.2670 | 266.3283 | 0.7983536 | 93717 | 0.6376128 | 1208.575 | Kecimen |\n",
       "| 45928 | 286.5406 | 208.7600 | 0.6849892 | 47336 | 0.6995994 |  844.162 | Kecimen |\n",
       "| 79408 | 352.1908 | 290.8275 | 0.5640113 | 81463 | 0.7927719 | 1073.251 | Kecimen |\n",
       "| 49242 | 318.1254 | 200.1221 | 0.7773513 | 51368 | 0.6584564 |  881.836 | Kecimen |\n",
       "\n"
      ],
      "text/plain": [
       "  Area  MajorAxisLength MinorAxisLength Eccentricity ConvexArea Extent   \n",
       "1 87524 442.2460        253.2912        0.8197384    90546      0.7586506\n",
       "2 75166 406.6907        243.0324        0.8018052    78789      0.6841296\n",
       "3 90856 442.2670        266.3283        0.7983536    93717      0.6376128\n",
       "4 45928 286.5406        208.7600        0.6849892    47336      0.6995994\n",
       "5 79408 352.1908        290.8275        0.5640113    81463      0.7927719\n",
       "6 49242 318.1254        200.1221        0.7773513    51368      0.6584564\n",
       "  Perimeter Class  \n",
       "1 1184.040  Kecimen\n",
       "2 1121.786  Kecimen\n",
       "3 1208.575  Kecimen\n",
       "4  844.162  Kecimen\n",
       "5 1073.251  Kecimen\n",
       "6  881.836  Kecimen"
      ]
     },
     "metadata": {},
     "output_type": "display_data"
    }
   ],
   "source": [
    "# This is where we clean and wrangle our data\n",
    "# There is really not too much to do since this dataset is already very tidy\n",
    "raisin <- raisin |>\n",
    "    mutate(Class = as_factor(Class)) |>\n",
    "    filter(!is.na(Area),\n",
    "           !is.na(MajorAxisLength),\n",
    "           !is.na(MinorAxisLength),\n",
    "           !is.na(Eccentricity),\n",
    "           !is.na(ConvexArea),\n",
    "           !is.na(Extent),\n",
    "           !is.na(Perimeter))\n",
    "head(raisin)"
   ]
  },
  {
   "cell_type": "code",
   "execution_count": 127,
   "id": "d5b870fe-3061-48b6-8b7d-859b9e7accff",
   "metadata": {},
   "outputs": [],
   "source": [
    "# Here we are going to separate our data into training set and test test\n",
    "raisin_split <- initial_split(raisin, prop = 0.7, strata = Class)\n",
    "raisin_train <- training(raisin_split)\n",
    "raisin_test <- testing(raisin_split)"
   ]
  },
  {
   "cell_type": "code",
   "execution_count": 128,
   "id": "d015d7a3-2de9-419f-8f33-c41839abe97a",
   "metadata": {},
   "outputs": [
    {
     "data": {
      "text/html": [
       "<table class=\"dataframe\">\n",
       "<caption>A tibble: 6 × 8</caption>\n",
       "<thead>\n",
       "\t<tr><th scope=col>Area</th><th scope=col>MajorAxisLength</th><th scope=col>MinorAxisLength</th><th scope=col>Eccentricity</th><th scope=col>ConvexArea</th><th scope=col>Extent</th><th scope=col>Perimeter</th><th scope=col>Class</th></tr>\n",
       "\t<tr><th scope=col>&lt;dbl&gt;</th><th scope=col>&lt;dbl&gt;</th><th scope=col>&lt;dbl&gt;</th><th scope=col>&lt;dbl&gt;</th><th scope=col>&lt;dbl&gt;</th><th scope=col>&lt;dbl&gt;</th><th scope=col>&lt;dbl&gt;</th><th scope=col>&lt;fct&gt;</th></tr>\n",
       "</thead>\n",
       "<tbody>\n",
       "\t<tr><td> 1.3058565</td><td> 1.9159088</td><td> 0.3924262</td><td>1.417334846</td><td> 1.2825230</td><td> 0.5977362</td><td> 1.5657658</td><td>Besni</td></tr>\n",
       "\t<tr><td> 0.7909821</td><td> 0.9079717</td><td> 0.6949209</td><td>0.669403207</td><td> 0.8150746</td><td> 0.5682589</td><td> 0.9884439</td><td>Besni</td></tr>\n",
       "\t<tr><td> 0.2498630</td><td> 0.1572109</td><td> 0.4925829</td><td>0.005492329</td><td> 0.2394630</td><td> 0.1275983</td><td> 0.2044756</td><td>Besni</td></tr>\n",
       "\t<tr><td>-0.6560285</td><td>-0.2156557</td><td>-0.8709853</td><td>0.827959068</td><td>-0.5654958</td><td>-1.9227672</td><td>-0.2822601</td><td>Besni</td></tr>\n",
       "\t<tr><td> 1.7349142</td><td> 1.3643469</td><td> 1.6646284</td><td>0.402433114</td><td> 1.6680215</td><td> 0.4092748</td><td> 1.3468693</td><td>Besni</td></tr>\n",
       "\t<tr><td> 1.2213790</td><td> 1.4930019</td><td> 0.6914924</td><td>1.079157235</td><td> 1.1717606</td><td> 0.8004837</td><td> 1.2272835</td><td>Besni</td></tr>\n",
       "</tbody>\n",
       "</table>\n"
      ],
      "text/latex": [
       "A tibble: 6 × 8\n",
       "\\begin{tabular}{llllllll}\n",
       " Area & MajorAxisLength & MinorAxisLength & Eccentricity & ConvexArea & Extent & Perimeter & Class\\\\\n",
       " <dbl> & <dbl> & <dbl> & <dbl> & <dbl> & <dbl> & <dbl> & <fct>\\\\\n",
       "\\hline\n",
       "\t  1.3058565 &  1.9159088 &  0.3924262 & 1.417334846 &  1.2825230 &  0.5977362 &  1.5657658 & Besni\\\\\n",
       "\t  0.7909821 &  0.9079717 &  0.6949209 & 0.669403207 &  0.8150746 &  0.5682589 &  0.9884439 & Besni\\\\\n",
       "\t  0.2498630 &  0.1572109 &  0.4925829 & 0.005492329 &  0.2394630 &  0.1275983 &  0.2044756 & Besni\\\\\n",
       "\t -0.6560285 & -0.2156557 & -0.8709853 & 0.827959068 & -0.5654958 & -1.9227672 & -0.2822601 & Besni\\\\\n",
       "\t  1.7349142 &  1.3643469 &  1.6646284 & 0.402433114 &  1.6680215 &  0.4092748 &  1.3468693 & Besni\\\\\n",
       "\t  1.2213790 &  1.4930019 &  0.6914924 & 1.079157235 &  1.1717606 &  0.8004837 &  1.2272835 & Besni\\\\\n",
       "\\end{tabular}\n"
      ],
      "text/markdown": [
       "\n",
       "A tibble: 6 × 8\n",
       "\n",
       "| Area &lt;dbl&gt; | MajorAxisLength &lt;dbl&gt; | MinorAxisLength &lt;dbl&gt; | Eccentricity &lt;dbl&gt; | ConvexArea &lt;dbl&gt; | Extent &lt;dbl&gt; | Perimeter &lt;dbl&gt; | Class &lt;fct&gt; |\n",
       "|---|---|---|---|---|---|---|---|\n",
       "|  1.3058565 |  1.9159088 |  0.3924262 | 1.417334846 |  1.2825230 |  0.5977362 |  1.5657658 | Besni |\n",
       "|  0.7909821 |  0.9079717 |  0.6949209 | 0.669403207 |  0.8150746 |  0.5682589 |  0.9884439 | Besni |\n",
       "|  0.2498630 |  0.1572109 |  0.4925829 | 0.005492329 |  0.2394630 |  0.1275983 |  0.2044756 | Besni |\n",
       "| -0.6560285 | -0.2156557 | -0.8709853 | 0.827959068 | -0.5654958 | -1.9227672 | -0.2822601 | Besni |\n",
       "|  1.7349142 |  1.3643469 |  1.6646284 | 0.402433114 |  1.6680215 |  0.4092748 |  1.3468693 | Besni |\n",
       "|  1.2213790 |  1.4930019 |  0.6914924 | 1.079157235 |  1.1717606 |  0.8004837 |  1.2272835 | Besni |\n",
       "\n"
      ],
      "text/plain": [
       "  Area       MajorAxisLength MinorAxisLength Eccentricity ConvexArea Extent    \n",
       "1  1.3058565  1.9159088       0.3924262      1.417334846   1.2825230  0.5977362\n",
       "2  0.7909821  0.9079717       0.6949209      0.669403207   0.8150746  0.5682589\n",
       "3  0.2498630  0.1572109       0.4925829      0.005492329   0.2394630  0.1275983\n",
       "4 -0.6560285 -0.2156557      -0.8709853      0.827959068  -0.5654958 -1.9227672\n",
       "5  1.7349142  1.3643469       1.6646284      0.402433114   1.6680215  0.4092748\n",
       "6  1.2213790  1.4930019       0.6914924      1.079157235   1.1717606  0.8004837\n",
       "  Perimeter  Class\n",
       "1  1.5657658 Besni\n",
       "2  0.9884439 Besni\n",
       "3  0.2044756 Besni\n",
       "4 -0.2822601 Besni\n",
       "5  1.3468693 Besni\n",
       "6  1.2272835 Besni"
      ]
     },
     "metadata": {},
     "output_type": "display_data"
    }
   ],
   "source": [
    "decide_recipe <- recipe(Class ~ ., data = raisin_train) |>\n",
    "    step_scale(all_predictors()) |>\n",
    "    step_center(all_predictors()) |>\n",
    "    prep()\n",
    "\n",
    "decide_data <- bake(decide_recipe, raisin_train)\n",
    "head(decide_data)"
   ]
  },
  {
   "cell_type": "markdown",
   "id": "c738bb5b-0972-4b13-8287-dc32681d552a",
   "metadata": {
    "tags": []
   },
   "source": [
    "##### Graph 1 (below): Boxplots for different variables vs types of raisin "
   ]
  },
  {
   "cell_type": "code",
   "execution_count": 129,
   "id": "dc4a0498-d2c3-4328-ab58-995c756f93db",
   "metadata": {},
   "outputs": [
    {
     "name": "stderr",
     "output_type": "stream",
     "text": [
      "Warning message:\n",
      "“Removed 3 rows containing non-finite values (stat_boxplot).”\n",
      "Warning message:\n",
      "“Removed 2 rows containing non-finite values (stat_boxplot).”\n"
     ]
    },
    {
     "data": {
      "image/png": "[encoded data removed]",
      "text/plain": [
       "plot without title"
      ]
     },
     "metadata": {
      "image/png": {
       "height": 720,
       "width": 1440
      }
     },
     "output_type": "display_data"
    }
   ],
   "source": [
    "options(repr.plot.width = 24, repr.plot.height = 12)\n",
    "graph_Ar <- ggplot(data = decide_data, mapping = aes(x = Class, y = Area)) + geom_boxplot() + theme_bw() + ylim(c(-4, 6))\n",
    "graph_Mal <- ggplot(data = decide_data, mapping = aes(x = Class, y = MajorAxisLength)) + geom_boxplot() + theme_bw() + ylim(c(-4, 6))\n",
    "graph_Mil <- ggplot(data = decide_data, mapping = aes(x = Class, y = MinorAxisLength)) + geom_boxplot() + theme_bw() + ylim(c(-4, 6))\n",
    "graph_Ecc <- ggplot(data = decide_data, mapping = aes(x = Class, y = Eccentricity)) + geom_boxplot() + theme_bw() + ylim(c(-4, 6))\n",
    "graph_Convex <- ggplot(data = decide_data, mapping = aes(x = Class, y = ConvexArea)) + geom_boxplot() + theme_bw() + ylim(c(-4, 6))\n",
    "graph_Ex <- ggplot(data = decide_data, mapping = aes(x = Class, y = Extent)) + geom_boxplot() + theme_bw() + ylim(c(-4, 6))\n",
    "graph_Per <- ggplot(data = decide_data, mapping = aes(x = Class, y = Perimeter)) + geom_boxplot() + theme_bw() + ylim(c(-4, 6))\n",
    "compare_graph <- plot_grid(graph_Ar,\n",
    "                           graph_Mal,\n",
    "                           graph_Mil,\n",
    "                           graph_Ecc,\n",
    "                           graph_Convex,\n",
    "                           graph_Ex,\n",
    "                           graph_Per,\n",
    "                           ncol = 7)\n",
    "compare_graph"
   ]
  },
  {
   "cell_type": "markdown",
   "id": "8c7f4bf3-6755-4650-adce-cb64c99fcb1a",
   "metadata": {},
   "source": [
    "Let's fix MajorAxisLength and discard Extent, think from this viewpoints:\n",
    "intervals: More different intervals (cover more different place), easy to distinguish between two types of raisins"
   ]
  },
  {
   "cell_type": "markdown",
   "id": "74ffc4dc-b663-4e91-9f97-5e3fad5d857c",
   "metadata": {},
   "source": [
    "<font color = red>__Part 3: Exploratory Data Analysis__\n",
    "\n",
    "Our codes will cover the following in this part:\n",
    "- Data summary for exploratory analysis\n",
    "- Data visualization for exploratory analysis"
   ]
  },
  {
   "cell_type": "code",
   "execution_count": 130,
   "id": "d52e8424-22b0-449e-8821-b87e3f7c1276",
   "metadata": {},
   "outputs": [
    {
     "data": {
      "text/html": [
       "<table class=\"dataframe\">\n",
       "<caption>A tibble: 1 × 1</caption>\n",
       "<thead>\n",
       "\t<tr><th scope=col>rows</th></tr>\n",
       "\t<tr><th scope=col>&lt;int&gt;</th></tr>\n",
       "</thead>\n",
       "<tbody>\n",
       "\t<tr><td>630</td></tr>\n",
       "</tbody>\n",
       "</table>\n"
      ],
      "text/latex": [
       "A tibble: 1 × 1\n",
       "\\begin{tabular}{l}\n",
       " rows\\\\\n",
       " <int>\\\\\n",
       "\\hline\n",
       "\t 630\\\\\n",
       "\\end{tabular}\n"
      ],
      "text/markdown": [
       "\n",
       "A tibble: 1 × 1\n",
       "\n",
       "| rows &lt;int&gt; |\n",
       "|---|\n",
       "| 630 |\n",
       "\n"
      ],
      "text/plain": [
       "  rows\n",
       "1 630 "
      ]
     },
     "metadata": {},
     "output_type": "display_data"
    }
   ],
   "source": [
    "table_1 <- raisin_train |>\n",
    "    summarize(rows = n())\n",
    "table_1    "
   ]
  },
  {
   "cell_type": "markdown",
   "id": "d5418e6c-0b07-4749-9567-da24b069e399",
   "metadata": {},
   "source": [
    "<font color = red>**Part 4: Predictive Data Analysis**\n",
    "\n",
    "__*** We will be using k-nn Classification method here ***__\n",
    "\n",
    "Our codes will cover the following in this part:\n",
    "- Finding prediction accuracy we got from all 5 different combinations\n",
    "- How different models we got from each combination look like when they are applied on the testing data (visualization)"
   ]
  },
  {
   "cell_type": "code",
   "execution_count": 140,
   "id": "36e24ebf-deed-490d-bd40-fa7215928ce5",
   "metadata": {},
   "outputs": [],
   "source": [
    "# The following objects are those that can be used through all 5 combinations:\n",
    "raisin_vfold <- vfold_cv(raisin_train, v = 5, strata = Class)                  # cross-validation\n",
    "gridvals <- tibble(neighbors = seq(from = 1, to = 100, by = 5))                # setting range for k that we will be using to tune our model"
   ]
  },
  {
   "cell_type": "markdown",
   "id": "4e565544-345e-4d19-b3eb-f5ca504dc277",
   "metadata": {},
   "source": [
    "<font color = blue>*Combination 1: MajorAxisLength & Area*"
   ]
  },
  {
   "cell_type": "code",
   "execution_count": 141,
   "id": "f1bee037-281f-4620-a4ee-035ca6366b74",
   "metadata": {},
   "outputs": [
    {
     "data": {
      "text/html": [
       "<table class=\"dataframe\">\n",
       "<caption>A tibble: 6 × 7</caption>\n",
       "<thead>\n",
       "\t<tr><th scope=col>neighbors</th><th scope=col>.metric</th><th scope=col>.estimator</th><th scope=col>mean</th><th scope=col>n</th><th scope=col>std_err</th><th scope=col>.config</th></tr>\n",
       "\t<tr><th scope=col>&lt;dbl&gt;</th><th scope=col>&lt;chr&gt;</th><th scope=col>&lt;chr&gt;</th><th scope=col>&lt;dbl&gt;</th><th scope=col>&lt;int&gt;</th><th scope=col>&lt;dbl&gt;</th><th scope=col>&lt;chr&gt;</th></tr>\n",
       "</thead>\n",
       "<tbody>\n",
       "\t<tr><td> 1</td><td>accuracy</td><td>binary</td><td>0.7380952</td><td>5</td><td>0.01792316</td><td>Preprocessor1_Model01</td></tr>\n",
       "\t<tr><td> 6</td><td>accuracy</td><td>binary</td><td>0.7746032</td><td>5</td><td>0.01854495</td><td>Preprocessor1_Model02</td></tr>\n",
       "\t<tr><td>11</td><td>accuracy</td><td>binary</td><td>0.8079365</td><td>5</td><td>0.01337484</td><td>Preprocessor1_Model03</td></tr>\n",
       "\t<tr><td>16</td><td>accuracy</td><td>binary</td><td>0.8142857</td><td>5</td><td>0.01111111</td><td>Preprocessor1_Model04</td></tr>\n",
       "\t<tr><td>21</td><td>accuracy</td><td>binary</td><td>0.8111111</td><td>5</td><td>0.01187828</td><td>Preprocessor1_Model05</td></tr>\n",
       "\t<tr><td>26</td><td>accuracy</td><td>binary</td><td>0.8174603</td><td>5</td><td>0.01328032</td><td>Preprocessor1_Model06</td></tr>\n",
       "</tbody>\n",
       "</table>\n"
      ],
      "text/latex": [
       "A tibble: 6 × 7\n",
       "\\begin{tabular}{lllllll}\n",
       " neighbors & .metric & .estimator & mean & n & std\\_err & .config\\\\\n",
       " <dbl> & <chr> & <chr> & <dbl> & <int> & <dbl> & <chr>\\\\\n",
       "\\hline\n",
       "\t  1 & accuracy & binary & 0.7380952 & 5 & 0.01792316 & Preprocessor1\\_Model01\\\\\n",
       "\t  6 & accuracy & binary & 0.7746032 & 5 & 0.01854495 & Preprocessor1\\_Model02\\\\\n",
       "\t 11 & accuracy & binary & 0.8079365 & 5 & 0.01337484 & Preprocessor1\\_Model03\\\\\n",
       "\t 16 & accuracy & binary & 0.8142857 & 5 & 0.01111111 & Preprocessor1\\_Model04\\\\\n",
       "\t 21 & accuracy & binary & 0.8111111 & 5 & 0.01187828 & Preprocessor1\\_Model05\\\\\n",
       "\t 26 & accuracy & binary & 0.8174603 & 5 & 0.01328032 & Preprocessor1\\_Model06\\\\\n",
       "\\end{tabular}\n"
      ],
      "text/markdown": [
       "\n",
       "A tibble: 6 × 7\n",
       "\n",
       "| neighbors &lt;dbl&gt; | .metric &lt;chr&gt; | .estimator &lt;chr&gt; | mean &lt;dbl&gt; | n &lt;int&gt; | std_err &lt;dbl&gt; | .config &lt;chr&gt; |\n",
       "|---|---|---|---|---|---|---|\n",
       "|  1 | accuracy | binary | 0.7380952 | 5 | 0.01792316 | Preprocessor1_Model01 |\n",
       "|  6 | accuracy | binary | 0.7746032 | 5 | 0.01854495 | Preprocessor1_Model02 |\n",
       "| 11 | accuracy | binary | 0.8079365 | 5 | 0.01337484 | Preprocessor1_Model03 |\n",
       "| 16 | accuracy | binary | 0.8142857 | 5 | 0.01111111 | Preprocessor1_Model04 |\n",
       "| 21 | accuracy | binary | 0.8111111 | 5 | 0.01187828 | Preprocessor1_Model05 |\n",
       "| 26 | accuracy | binary | 0.8174603 | 5 | 0.01328032 | Preprocessor1_Model06 |\n",
       "\n"
      ],
      "text/plain": [
       "  neighbors .metric  .estimator mean      n std_err    .config              \n",
       "1  1        accuracy binary     0.7380952 5 0.01792316 Preprocessor1_Model01\n",
       "2  6        accuracy binary     0.7746032 5 0.01854495 Preprocessor1_Model02\n",
       "3 11        accuracy binary     0.8079365 5 0.01337484 Preprocessor1_Model03\n",
       "4 16        accuracy binary     0.8142857 5 0.01111111 Preprocessor1_Model04\n",
       "5 21        accuracy binary     0.8111111 5 0.01187828 Preprocessor1_Model05\n",
       "6 26        accuracy binary     0.8174603 5 0.01328032 Preprocessor1_Model06"
      ]
     },
     "metadata": {},
     "output_type": "display_data"
    }
   ],
   "source": [
    "area_recipe <- recipe(Class ~ Area, data = raisin_train) |>\n",
    "    step_scale(all_predictors()) |>\n",
    "    step_center(all_predictors())\n",
    "\n",
    "area_spec <- nearest_neighbor(weight_func = \"rectangular\",\n",
    "                              neighbors = tune()) |>\n",
    "    set_engine(\"kknn\") |>\n",
    "    set_mode(\"classification\")\n",
    "\n",
    "area_accuracies <- workflow() |>\n",
    "    add_recipe(area_recipe) |>\n",
    "    add_model(area_spec) |>\n",
    "    tune_grid(resamples = raisin_vfold,\n",
    "              grid = gridvals) |>\n",
    "    collect_metrics() |>\n",
    "    filter(.metric == \"accuracy\")\n",
    "head(area_accuracies)"
   ]
  },
  {
   "cell_type": "code",
   "execution_count": 144,
   "id": "cb416d5f-8ecb-4293-a5ff-bcb12cceb602",
   "metadata": {},
   "outputs": [
    {
     "data": {
      "text/html": [
       "26"
      ],
      "text/latex": [
       "26"
      ],
      "text/markdown": [
       "26"
      ],
      "text/plain": [
       "[1] 26"
      ]
     },
     "metadata": {},
     "output_type": "display_data"
    }
   ],
   "source": [
    "k_suitable <- area_accuracies |>\n",
    "    arrange(desc(mean)) |>\n",
    "    slice(1) |>\n",
    "    pull(neighbors)\n",
    "k_suitable"
   ]
  },
  {
   "cell_type": "code",
   "execution_count": 149,
   "id": "16ebc65e-6796-4e17-abe1-c7e8b5f6b0cb",
   "metadata": {},
   "outputs": [
    {
     "data": {
      "text/html": [
       "<table class=\"dataframe\">\n",
       "<caption>A tibble: 1 × 3</caption>\n",
       "<thead>\n",
       "\t<tr><th scope=col>.metric</th><th scope=col>.estimator</th><th scope=col>.estimate</th></tr>\n",
       "\t<tr><th scope=col>&lt;chr&gt;</th><th scope=col>&lt;chr&gt;</th><th scope=col>&lt;dbl&gt;</th></tr>\n",
       "</thead>\n",
       "<tbody>\n",
       "\t<tr><td>accuracy</td><td>binary</td><td>0.8074074</td></tr>\n",
       "</tbody>\n",
       "</table>\n"
      ],
      "text/latex": [
       "A tibble: 1 × 3\n",
       "\\begin{tabular}{lll}\n",
       " .metric & .estimator & .estimate\\\\\n",
       " <chr> & <chr> & <dbl>\\\\\n",
       "\\hline\n",
       "\t accuracy & binary & 0.8074074\\\\\n",
       "\\end{tabular}\n"
      ],
      "text/markdown": [
       "\n",
       "A tibble: 1 × 3\n",
       "\n",
       "| .metric &lt;chr&gt; | .estimator &lt;chr&gt; | .estimate &lt;dbl&gt; |\n",
       "|---|---|---|\n",
       "| accuracy | binary | 0.8074074 |\n",
       "\n"
      ],
      "text/plain": [
       "  .metric  .estimator .estimate\n",
       "1 accuracy binary     0.8074074"
      ]
     },
     "metadata": {},
     "output_type": "display_data"
    }
   ],
   "source": [
    "area_spec2 <- nearest_neighbor(weight_func = \"rectangular\",\n",
    "                               neighbors = k_suitable) |>\n",
    "    set_engine(\"kknn\") |>\n",
    "    set_mode(\"classification\")\n",
    "\n",
    "area_fit <- workflow() |>\n",
    "    add_recipe(area_recipe) |>\n",
    "    add_model(area_spec2) |>\n",
    "    fit(data = raisin_train)\n",
    "\n",
    "area_test_predictions <- predict(area_fit, raisin_test) |>\n",
    "    bind_cols(raisin_test) |>\n",
    "    metrics(truth = Class, estimate = .pred_class) |>\n",
    "    filter(.metric == \"accuracy\")\n",
    "area_test_predictions"
   ]
  }
 ],
 "metadata": {
  "kernelspec": {
   "display_name": "R",
   "language": "R",
   "name": "ir"
  },
  "language_info": {
   "codemirror_mode": "r",
   "file_extension": ".r",
   "mimetype": "text/x-r-source",
   "name": "R",
   "pygments_lexer": "r",
   "version": "4.1.3"
  }
 },
 "nbformat": 4,
 "nbformat_minor": 5
}
